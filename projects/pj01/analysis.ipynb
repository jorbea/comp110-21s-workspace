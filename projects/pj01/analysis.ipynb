{
 "metadata": {
  "language_info": {
   "codemirror_mode": {
    "name": "ipython",
    "version": 3
   },
   "file_extension": ".py",
   "mimetype": "text/x-python",
   "name": "python",
   "nbconvert_exporter": "python",
   "pygments_lexer": "ipython3",
   "version": "3.9.1"
  },
  "orig_nbformat": 2,
  "kernelspec": {
   "name": "python3",
   "display_name": "Python 3.9.1 64-bit",
   "metadata": {
    "interpreter": {
     "hash": "aee8b7b246df8f9039afb4144a1f6fd8d2ca17a180786b69acc140d282b71a49"
    }
   }
  }
 },
 "nbformat": 4,
 "nbformat_minor": 2,
 "cells": [
  {
   "source": [
    "# Hypothesis: \n",
    "## More students that intend to major or minor in computer science expect to earn an A than non-computer science students."
   ],
   "cell_type": "markdown",
   "metadata": {}
  },
  {
   "source": [
    "### Step-00: Read in the csv & convert it to a column-oriented data table."
   ],
   "cell_type": "markdown",
   "metadata": {}
  },
  {
   "cell_type": "code",
   "execution_count": 3,
   "metadata": {},
   "outputs": [],
   "source": [
    "from data_utils import read_csv_rows, columnar\n",
    "\n",
    "data_rows: list[dict[str, str]] = read_csv_rows('../../data/survey.csv')\n",
    "columns: dict[str, list[str]] = columnar(data_rows)"
   ]
  },
  {
   "source": [
    "### Step-01: Select just the \"comp_major\" and \"grade\" columns. Below are the first ten rows of each column."
   ],
   "cell_type": "markdown",
   "metadata": {}
  },
  {
   "cell_type": "code",
   "execution_count": 94,
   "metadata": {},
   "outputs": [
    {
     "output_type": "execute_result",
     "data": {
      "text/plain": [
       "{'comp_major': ['No',\n",
       "  'No',\n",
       "  'No',\n",
       "  'No',\n",
       "  'Yes - BS',\n",
       "  'Yes - Minor',\n",
       "  'No',\n",
       "  'No',\n",
       "  'No',\n",
       "  'No'],\n",
       " 'grade': ['A', 'B', 'B', 'A', 'A', 'A', 'A', 'C', 'B', 'A']}"
      ]
     },
     "metadata": {},
     "execution_count": 94
    }
   ],
   "source": [
    "from data_utils import head, select\n",
    "\n",
    "subset: dict[str, list[str]] = select(columns, [\"comp_major\", \"grade\"])\n",
    "\n",
    "subset_major: dict[str, list[str]] = select(columns, [\"comp_major\"])\n",
    "subset_grade: dict[str, list[str]] = select(columns, [\"grade\"])\n",
    "\n",
    "head(subset, 10)"
   ]
  },
  {
   "source": [
    "### Step-02: Filter out the non-computer science majors or minors into one variable and the remainder into another variable."
   ],
   "cell_type": "markdown",
   "metadata": {}
  },
  {
   "cell_type": "code",
   "execution_count": 111,
   "metadata": {},
   "outputs": [
    {
     "output_type": "error",
     "ename": "KeyError",
     "evalue": "'c'",
     "traceback": [
      "\u001b[0;31m---------------------------------------------------------------------------\u001b[0m",
      "\u001b[0;31mKeyError\u001b[0m                                  Traceback (most recent call last)",
      "\u001b[0;32m<ipython-input-111-2030b986c4b8>\u001b[0m in \u001b[0;36m<module>\u001b[0;34m\u001b[0m\n\u001b[1;32m     10\u001b[0m                 \u001b[0mdict_non_cs\u001b[0m\u001b[0;34m[\u001b[0m\u001b[0mkey\u001b[0m\u001b[0;34m]\u001b[0m \u001b[0;34m=\u001b[0m \u001b[0msubset_major\u001b[0m\u001b[0;34m[\u001b[0m\u001b[0mkey\u001b[0m\u001b[0;34m]\u001b[0m\u001b[0;34m\u001b[0m\u001b[0;34m\u001b[0m\u001b[0m\n\u001b[1;32m     11\u001b[0m             \u001b[0;32melse\u001b[0m\u001b[0;34m:\u001b[0m\u001b[0;34m\u001b[0m\u001b[0;34m\u001b[0m\u001b[0m\n\u001b[0;32m---> 12\u001b[0;31m                 \u001b[0mdict_cs\u001b[0m\u001b[0;34m[\u001b[0m\u001b[0mkey\u001b[0m\u001b[0;34m]\u001b[0m \u001b[0;34m=\u001b[0m \u001b[0msubset_major\u001b[0m\u001b[0;34m[\u001b[0m\u001b[0mkey\u001b[0m\u001b[0;34m]\u001b[0m\u001b[0;34m\u001b[0m\u001b[0;34m\u001b[0m\u001b[0m\n\u001b[0m\u001b[1;32m     13\u001b[0m \u001b[0;34m\u001b[0m\u001b[0m\n\u001b[1;32m     14\u001b[0m \u001b[0mdict_cs\u001b[0m\u001b[0;34m\u001b[0m\u001b[0;34m\u001b[0m\u001b[0m\n",
      "\u001b[0;31mKeyError\u001b[0m: 'c'"
     ]
    }
   ],
   "source": [
    "from data_utils import count\n",
    "\n",
    "dict_cs: dict[str, str] = {}\n",
    "dict_non_cs: dict[str, str] = {}\n",
    "\n",
    "for d in subset_major:\n",
    "    for key in d:\n",
    "        for value in key:\n",
    "            if value == \"No\":\n",
    "                dict_non_cs[key] = subset_major[key]\n",
    "            else:\n",
    "                dict_cs[key] = subset_major[key]\n",
    "\n",
    "dict_cs"
   ]
  },
  {
   "source": [
    "### Step-03: Count the frequencies of each expected grade in the non-CS and CS groups."
   ],
   "cell_type": "markdown",
   "metadata": {}
  },
  {
   "cell_type": "code",
   "execution_count": 101,
   "metadata": {},
   "outputs": [],
   "source": [
    "from data_utils import count\n",
    "\n",
    "frequency_non_CS: dict[str, int] = {'A': 0, 'B': 0, 'C': 0, 'D': 0}\n",
    "frequency_CS: dict[str, int] = {'A': 0, 'B': 0, 'C': 0, 'D': 0}\n"
   ]
  },
  {
   "source": [
    "### Step-04: Display the results of the previous cell."
   ],
   "cell_type": "markdown",
   "metadata": {}
  },
  {
   "source": [
    "# Conclusion:"
   ],
   "cell_type": "markdown",
   "metadata": {}
  },
  {
   "cell_type": "code",
   "execution_count": null,
   "metadata": {},
   "outputs": [],
   "source": []
  }
 ]
}
{
 "metadata": {
  "language_info": {
   "codemirror_mode": {
    "name": "ipython",
    "version": 3
   },
   "file_extension": ".py",
   "mimetype": "text/x-python",
   "name": "python",
   "nbconvert_exporter": "python",
   "pygments_lexer": "ipython3",
   "version": "3.9.1"
  },
  "orig_nbformat": 2,
  "kernelspec": {
   "name": "python391jvsc74a57bd0aee8b7b246df8f9039afb4144a1f6fd8d2ca17a180786b69acc140d282b71a49",
   "display_name": "Python 3.9.1 64-bit"
  },
  "metadata": {
   "interpreter": {
    "hash": "aee8b7b246df8f9039afb4144a1f6fd8d2ca17a180786b69acc140d282b71a49"
   }
  }
 },
 "nbformat": 4,
 "nbformat_minor": 2,
 "cells": [
  {
   "source": [
    "# Hypothesis:\n",
    "\n",
    "## There is a strong correlation between total government expenditure on education (measured in the percentage of government expenditure) and tertiary school enrollment (measured by the ratio of total enrollment)."
   ],
   "cell_type": "markdown",
   "metadata": {}
  },
  {
   "cell_type": "code",
   "execution_count": 25,
   "metadata": {},
   "outputs": [],
   "source": [
    "import pandas as pd\n",
    "EDUCATION_SPENDING: str = \"SE.XPD.TOTL.GB.ZS\"\n",
    "TERTIARY_SCHOOL_ENROLLMENT: str = \"SE.TER.ENRR\""
   ]
  },
  {
   "source": [
    "### 0. The CSV file containing the data sourced from the World Bank is read into a DataFrame."
   ],
   "cell_type": "markdown",
   "metadata": {}
  },
  {
   "cell_type": "code",
   "execution_count": 26,
   "metadata": {},
   "outputs": [],
   "source": [
    "databank = pd.read_csv(\"../../data/databank_education_2018.csv\")"
   ]
  },
  {
   "source": [
    "### 1-a. The 'shape' (number of rows, number of columns) of the DataFrame is printed."
   ],
   "cell_type": "markdown",
   "metadata": {}
  },
  {
   "cell_type": "code",
   "execution_count": 27,
   "metadata": {},
   "outputs": [
    {
     "output_type": "execute_result",
     "data": {
      "text/plain": [
       "(244, 94)"
      ]
     },
     "metadata": {},
     "execution_count": 27
    }
   ],
   "source": [
    "databank.shape"
   ]
  },
  {
   "source": [
    "### 1-b. The head method is used to display the first ten rows of the DataFrame."
   ],
   "cell_type": "markdown",
   "metadata": {}
  },
  {
   "cell_type": "code",
   "execution_count": 28,
   "metadata": {},
   "outputs": [
    {
     "output_type": "execute_result",
     "data": {
      "text/plain": [
       "               Country  SE.COM.DURS  SE.ENR.PRIM.FM.ZS  SE.ENR.PRSC.FM.ZS  \\\n",
       "0          Afghanistan          9.0            0.66691            0.63602   \n",
       "1              Albania          9.0            1.03765            1.01730   \n",
       "2              Algeria         10.0            0.95499                NaN   \n",
       "3              Andorra         10.0                NaN                NaN   \n",
       "4               Angola          6.0                NaN                NaN   \n",
       "5  Antigua and Barbuda         11.0            0.99208            0.97924   \n",
       "6           Arab World          9.0            0.94617            0.94833   \n",
       "7            Argentina         14.0                NaN                NaN   \n",
       "8              Armenia         12.0            0.99961            1.02283   \n",
       "9                Aruba         13.0                NaN                NaN   \n",
       "\n",
       "   SE.ENR.SECO.FM.ZS  SE.ENR.TERT.FM.ZS  SE.PRE.DURS  SE.PRE.ENRL.TC.ZS  \\\n",
       "0            0.57098            0.34523          1.0                NaN   \n",
       "1            1.00539            1.36299          5.0           17.09409   \n",
       "2                NaN            1.39722          1.0                NaN   \n",
       "3                NaN                NaN          3.0           13.27711   \n",
       "4                NaN                NaN          5.0                NaN   \n",
       "5            0.96286                NaN          5.0                NaN   \n",
       "6            0.95186            1.09935          3.0           21.16757   \n",
       "7                NaN                NaN          6.0                NaN   \n",
       "8            1.03762            1.24788          3.0            6.27090   \n",
       "9                NaN                NaN          2.0                NaN   \n",
       "\n",
       "   SE.PRE.ENRR  SE.PRE.ENRR.FE  ...  SH.DYN.1014  SH.DYN.1519  SH.DYN.2024  \\\n",
       "0          NaN             NaN  ...     2.000000    13.800000    17.600000   \n",
       "1    80.498734       80.790977  ...     1.100000     1.800000     1.900000   \n",
       "2          NaN             NaN  ...     1.700000     2.700000     3.300000   \n",
       "3          NaN             NaN  ...     0.500000     1.400000     2.100000   \n",
       "4          NaN             NaN  ...     6.400000    13.100000    19.900000   \n",
       "5    70.253601       74.025070  ...     1.000000     2.500000     3.200000   \n",
       "6    27.001801       26.855440  ...     2.923226     6.268086     8.017785   \n",
       "7          NaN             NaN  ...     1.100000     3.500000     4.900000   \n",
       "8    38.021290       39.659691  ...     1.000000     2.300000     2.700000   \n",
       "9          NaN             NaN  ...          NaN          NaN          NaN   \n",
       "\n",
       "   SL.TLF.TOTL.FE.ZS  SL.TLF.TOTL.IN  SL.UEM.TOTL.FE.ZS  SL.UEM.TOTL.MA.ZS  \\\n",
       "0          21.247021      10319282.0          13.920000          10.290000   \n",
       "1          42.190687       1400072.0          11.870000          12.620000   \n",
       "2          20.126974      12589369.0          20.490000           9.720000   \n",
       "3                NaN             NaN                NaN                NaN   \n",
       "4          50.202910      12705650.0           7.280000           6.720000   \n",
       "5                NaN             NaN                NaN                NaN   \n",
       "6          20.368759     134761988.0          19.903642           7.788688   \n",
       "7          43.001857      20551682.0          10.540000           8.230000   \n",
       "8          44.231575       1245626.0          20.400000          17.830000   \n",
       "9                NaN             NaN                NaN                NaN   \n",
       "\n",
       "   SL.UEM.TOTL.ZS  SP.POP.0014.TO.ZS  SP.POP.1564.TO.ZS  \n",
       "0       11.060000          43.090176          54.324898  \n",
       "1       12.300000          17.672874          68.582390  \n",
       "2       11.890000          30.148679          63.488825  \n",
       "3             NaN                NaN                NaN  \n",
       "4        7.000000          46.808925          50.974702  \n",
       "5             NaN          22.081092          69.119083  \n",
       "6       10.256798          32.780436          62.661687  \n",
       "7        9.220000          24.760934          64.121277  \n",
       "8       18.969999          20.633422          68.112760  \n",
       "9             NaN          17.802447          68.646606  \n",
       "\n",
       "[10 rows x 94 columns]"
      ],
      "text/html": "<div>\n<style scoped>\n    .dataframe tbody tr th:only-of-type {\n        vertical-align: middle;\n    }\n\n    .dataframe tbody tr th {\n        vertical-align: top;\n    }\n\n    .dataframe thead th {\n        text-align: right;\n    }\n</style>\n<table border=\"1\" class=\"dataframe\">\n  <thead>\n    <tr style=\"text-align: right;\">\n      <th></th>\n      <th>Country</th>\n      <th>SE.COM.DURS</th>\n      <th>SE.ENR.PRIM.FM.ZS</th>\n      <th>SE.ENR.PRSC.FM.ZS</th>\n      <th>SE.ENR.SECO.FM.ZS</th>\n      <th>SE.ENR.TERT.FM.ZS</th>\n      <th>SE.PRE.DURS</th>\n      <th>SE.PRE.ENRL.TC.ZS</th>\n      <th>SE.PRE.ENRR</th>\n      <th>SE.PRE.ENRR.FE</th>\n      <th>...</th>\n      <th>SH.DYN.1014</th>\n      <th>SH.DYN.1519</th>\n      <th>SH.DYN.2024</th>\n      <th>SL.TLF.TOTL.FE.ZS</th>\n      <th>SL.TLF.TOTL.IN</th>\n      <th>SL.UEM.TOTL.FE.ZS</th>\n      <th>SL.UEM.TOTL.MA.ZS</th>\n      <th>SL.UEM.TOTL.ZS</th>\n      <th>SP.POP.0014.TO.ZS</th>\n      <th>SP.POP.1564.TO.ZS</th>\n    </tr>\n  </thead>\n  <tbody>\n    <tr>\n      <th>0</th>\n      <td>Afghanistan</td>\n      <td>9.0</td>\n      <td>0.66691</td>\n      <td>0.63602</td>\n      <td>0.57098</td>\n      <td>0.34523</td>\n      <td>1.0</td>\n      <td>NaN</td>\n      <td>NaN</td>\n      <td>NaN</td>\n      <td>...</td>\n      <td>2.000000</td>\n      <td>13.800000</td>\n      <td>17.600000</td>\n      <td>21.247021</td>\n      <td>10319282.0</td>\n      <td>13.920000</td>\n      <td>10.290000</td>\n      <td>11.060000</td>\n      <td>43.090176</td>\n      <td>54.324898</td>\n    </tr>\n    <tr>\n      <th>1</th>\n      <td>Albania</td>\n      <td>9.0</td>\n      <td>1.03765</td>\n      <td>1.01730</td>\n      <td>1.00539</td>\n      <td>1.36299</td>\n      <td>5.0</td>\n      <td>17.09409</td>\n      <td>80.498734</td>\n      <td>80.790977</td>\n      <td>...</td>\n      <td>1.100000</td>\n      <td>1.800000</td>\n      <td>1.900000</td>\n      <td>42.190687</td>\n      <td>1400072.0</td>\n      <td>11.870000</td>\n      <td>12.620000</td>\n      <td>12.300000</td>\n      <td>17.672874</td>\n      <td>68.582390</td>\n    </tr>\n    <tr>\n      <th>2</th>\n      <td>Algeria</td>\n      <td>10.0</td>\n      <td>0.95499</td>\n      <td>NaN</td>\n      <td>NaN</td>\n      <td>1.39722</td>\n      <td>1.0</td>\n      <td>NaN</td>\n      <td>NaN</td>\n      <td>NaN</td>\n      <td>...</td>\n      <td>1.700000</td>\n      <td>2.700000</td>\n      <td>3.300000</td>\n      <td>20.126974</td>\n      <td>12589369.0</td>\n      <td>20.490000</td>\n      <td>9.720000</td>\n      <td>11.890000</td>\n      <td>30.148679</td>\n      <td>63.488825</td>\n    </tr>\n    <tr>\n      <th>3</th>\n      <td>Andorra</td>\n      <td>10.0</td>\n      <td>NaN</td>\n      <td>NaN</td>\n      <td>NaN</td>\n      <td>NaN</td>\n      <td>3.0</td>\n      <td>13.27711</td>\n      <td>NaN</td>\n      <td>NaN</td>\n      <td>...</td>\n      <td>0.500000</td>\n      <td>1.400000</td>\n      <td>2.100000</td>\n      <td>NaN</td>\n      <td>NaN</td>\n      <td>NaN</td>\n      <td>NaN</td>\n      <td>NaN</td>\n      <td>NaN</td>\n      <td>NaN</td>\n    </tr>\n    <tr>\n      <th>4</th>\n      <td>Angola</td>\n      <td>6.0</td>\n      <td>NaN</td>\n      <td>NaN</td>\n      <td>NaN</td>\n      <td>NaN</td>\n      <td>5.0</td>\n      <td>NaN</td>\n      <td>NaN</td>\n      <td>NaN</td>\n      <td>...</td>\n      <td>6.400000</td>\n      <td>13.100000</td>\n      <td>19.900000</td>\n      <td>50.202910</td>\n      <td>12705650.0</td>\n      <td>7.280000</td>\n      <td>6.720000</td>\n      <td>7.000000</td>\n      <td>46.808925</td>\n      <td>50.974702</td>\n    </tr>\n    <tr>\n      <th>5</th>\n      <td>Antigua and Barbuda</td>\n      <td>11.0</td>\n      <td>0.99208</td>\n      <td>0.97924</td>\n      <td>0.96286</td>\n      <td>NaN</td>\n      <td>5.0</td>\n      <td>NaN</td>\n      <td>70.253601</td>\n      <td>74.025070</td>\n      <td>...</td>\n      <td>1.000000</td>\n      <td>2.500000</td>\n      <td>3.200000</td>\n      <td>NaN</td>\n      <td>NaN</td>\n      <td>NaN</td>\n      <td>NaN</td>\n      <td>NaN</td>\n      <td>22.081092</td>\n      <td>69.119083</td>\n    </tr>\n    <tr>\n      <th>6</th>\n      <td>Arab World</td>\n      <td>9.0</td>\n      <td>0.94617</td>\n      <td>0.94833</td>\n      <td>0.95186</td>\n      <td>1.09935</td>\n      <td>3.0</td>\n      <td>21.16757</td>\n      <td>27.001801</td>\n      <td>26.855440</td>\n      <td>...</td>\n      <td>2.923226</td>\n      <td>6.268086</td>\n      <td>8.017785</td>\n      <td>20.368759</td>\n      <td>134761988.0</td>\n      <td>19.903642</td>\n      <td>7.788688</td>\n      <td>10.256798</td>\n      <td>32.780436</td>\n      <td>62.661687</td>\n    </tr>\n    <tr>\n      <th>7</th>\n      <td>Argentina</td>\n      <td>14.0</td>\n      <td>NaN</td>\n      <td>NaN</td>\n      <td>NaN</td>\n      <td>NaN</td>\n      <td>6.0</td>\n      <td>NaN</td>\n      <td>NaN</td>\n      <td>NaN</td>\n      <td>...</td>\n      <td>1.100000</td>\n      <td>3.500000</td>\n      <td>4.900000</td>\n      <td>43.001857</td>\n      <td>20551682.0</td>\n      <td>10.540000</td>\n      <td>8.230000</td>\n      <td>9.220000</td>\n      <td>24.760934</td>\n      <td>64.121277</td>\n    </tr>\n    <tr>\n      <th>8</th>\n      <td>Armenia</td>\n      <td>12.0</td>\n      <td>0.99961</td>\n      <td>1.02283</td>\n      <td>1.03762</td>\n      <td>1.24788</td>\n      <td>3.0</td>\n      <td>6.27090</td>\n      <td>38.021290</td>\n      <td>39.659691</td>\n      <td>...</td>\n      <td>1.000000</td>\n      <td>2.300000</td>\n      <td>2.700000</td>\n      <td>44.231575</td>\n      <td>1245626.0</td>\n      <td>20.400000</td>\n      <td>17.830000</td>\n      <td>18.969999</td>\n      <td>20.633422</td>\n      <td>68.112760</td>\n    </tr>\n    <tr>\n      <th>9</th>\n      <td>Aruba</td>\n      <td>13.0</td>\n      <td>NaN</td>\n      <td>NaN</td>\n      <td>NaN</td>\n      <td>NaN</td>\n      <td>2.0</td>\n      <td>NaN</td>\n      <td>NaN</td>\n      <td>NaN</td>\n      <td>...</td>\n      <td>NaN</td>\n      <td>NaN</td>\n      <td>NaN</td>\n      <td>NaN</td>\n      <td>NaN</td>\n      <td>NaN</td>\n      <td>NaN</td>\n      <td>NaN</td>\n      <td>17.802447</td>\n      <td>68.646606</td>\n    </tr>\n  </tbody>\n</table>\n<p>10 rows × 94 columns</p>\n</div>"
     },
     "metadata": {},
     "execution_count": 28
    }
   ],
   "source": [
    "databank.head(10)"
   ]
  },
  {
   "source": [
    "### 2. The 'Country', 'SE.XPD.TOTL.GB.ZS' (\"EDUCATION_SPENDING\"), and 'SE.TER.ENRR' (\"TERTIARY_SCHOOL_ENROLLMENT\") columns are isolated and assigned to a new DataFrame."
   ],
   "cell_type": "markdown",
   "metadata": {}
  },
  {
   "cell_type": "code",
   "execution_count": 32,
   "metadata": {},
   "outputs": [
    {
     "output_type": "execute_result",
     "data": {
      "text/plain": [
       "               Country  SE.XPD.TOTL.GB.ZS  SE.TER.ENRR\n",
       "0          Afghanistan                NaN     9.686420\n",
       "1              Albania                NaN    54.961330\n",
       "2              Algeria                NaN    51.365669\n",
       "3              Andorra          19.323059          NaN\n",
       "4               Angola                NaN          NaN\n",
       "5  Antigua and Barbuda                NaN          NaN\n",
       "6           Arab World                NaN    32.173851\n",
       "7            Argentina                NaN          NaN\n",
       "8              Armenia                NaN    54.570480\n",
       "9                Aruba                NaN          NaN"
      ],
      "text/html": "<div>\n<style scoped>\n    .dataframe tbody tr th:only-of-type {\n        vertical-align: middle;\n    }\n\n    .dataframe tbody tr th {\n        vertical-align: top;\n    }\n\n    .dataframe thead th {\n        text-align: right;\n    }\n</style>\n<table border=\"1\" class=\"dataframe\">\n  <thead>\n    <tr style=\"text-align: right;\">\n      <th></th>\n      <th>Country</th>\n      <th>SE.XPD.TOTL.GB.ZS</th>\n      <th>SE.TER.ENRR</th>\n    </tr>\n  </thead>\n  <tbody>\n    <tr>\n      <th>0</th>\n      <td>Afghanistan</td>\n      <td>NaN</td>\n      <td>9.686420</td>\n    </tr>\n    <tr>\n      <th>1</th>\n      <td>Albania</td>\n      <td>NaN</td>\n      <td>54.961330</td>\n    </tr>\n    <tr>\n      <th>2</th>\n      <td>Algeria</td>\n      <td>NaN</td>\n      <td>51.365669</td>\n    </tr>\n    <tr>\n      <th>3</th>\n      <td>Andorra</td>\n      <td>19.323059</td>\n      <td>NaN</td>\n    </tr>\n    <tr>\n      <th>4</th>\n      <td>Angola</td>\n      <td>NaN</td>\n      <td>NaN</td>\n    </tr>\n    <tr>\n      <th>5</th>\n      <td>Antigua and Barbuda</td>\n      <td>NaN</td>\n      <td>NaN</td>\n    </tr>\n    <tr>\n      <th>6</th>\n      <td>Arab World</td>\n      <td>NaN</td>\n      <td>32.173851</td>\n    </tr>\n    <tr>\n      <th>7</th>\n      <td>Argentina</td>\n      <td>NaN</td>\n      <td>NaN</td>\n    </tr>\n    <tr>\n      <th>8</th>\n      <td>Armenia</td>\n      <td>NaN</td>\n      <td>54.570480</td>\n    </tr>\n    <tr>\n      <th>9</th>\n      <td>Aruba</td>\n      <td>NaN</td>\n      <td>NaN</td>\n    </tr>\n  </tbody>\n</table>\n</div>"
     },
     "metadata": {},
     "execution_count": 32
    }
   ],
   "source": [
    "select_databank = databank[[\"Country\", EDUCATION_SPENDING, TERTIARY_SCHOOL_ENROLLMENT]]\n",
    "select_databank.head(10)"
   ]
  },
  {
   "source": [
    "### 3. The 'select_databank' DataFrame is filtered to only include the countries with values for both government expenditure on education and tertiary school enrollment columns. The 'shape' and first ten rows of the filtered DataFrame are printed."
   ],
   "cell_type": "markdown",
   "metadata": {}
  },
  {
   "cell_type": "code",
   "execution_count": 31,
   "metadata": {},
   "outputs": [
    {
     "output_type": "stream",
     "name": "stdout",
     "text": [
      "(46, 3)\n"
     ]
    },
    {
     "output_type": "execute_result",
     "data": {
      "text/plain": [
       "         Country  SE.XPD.TOTL.GB.ZS  SE.TER.ENRR\n",
       "12    Azerbaijan           7.435460    27.708500\n",
       "19        Belize          21.365290    24.540840\n",
       "20         Benin          17.709181    12.516990\n",
       "22        Bhutan          22.766460    15.554510\n",
       "30  Burkina Faso          22.661169     6.501870\n",
       "31       Burundi          19.919870     4.057660\n",
       "33      Cambodia           8.838980    13.687760\n",
       "34      Cameroon          16.883160    14.267270\n",
       "42      Colombia          15.982620    55.327492\n",
       "46    Costa Rica          26.086670    55.207939"
      ],
      "text/html": "<div>\n<style scoped>\n    .dataframe tbody tr th:only-of-type {\n        vertical-align: middle;\n    }\n\n    .dataframe tbody tr th {\n        vertical-align: top;\n    }\n\n    .dataframe thead th {\n        text-align: right;\n    }\n</style>\n<table border=\"1\" class=\"dataframe\">\n  <thead>\n    <tr style=\"text-align: right;\">\n      <th></th>\n      <th>Country</th>\n      <th>SE.XPD.TOTL.GB.ZS</th>\n      <th>SE.TER.ENRR</th>\n    </tr>\n  </thead>\n  <tbody>\n    <tr>\n      <th>12</th>\n      <td>Azerbaijan</td>\n      <td>7.435460</td>\n      <td>27.708500</td>\n    </tr>\n    <tr>\n      <th>19</th>\n      <td>Belize</td>\n      <td>21.365290</td>\n      <td>24.540840</td>\n    </tr>\n    <tr>\n      <th>20</th>\n      <td>Benin</td>\n      <td>17.709181</td>\n      <td>12.516990</td>\n    </tr>\n    <tr>\n      <th>22</th>\n      <td>Bhutan</td>\n      <td>22.766460</td>\n      <td>15.554510</td>\n    </tr>\n    <tr>\n      <th>30</th>\n      <td>Burkina Faso</td>\n      <td>22.661169</td>\n      <td>6.501870</td>\n    </tr>\n    <tr>\n      <th>31</th>\n      <td>Burundi</td>\n      <td>19.919870</td>\n      <td>4.057660</td>\n    </tr>\n    <tr>\n      <th>33</th>\n      <td>Cambodia</td>\n      <td>8.838980</td>\n      <td>13.687760</td>\n    </tr>\n    <tr>\n      <th>34</th>\n      <td>Cameroon</td>\n      <td>16.883160</td>\n      <td>14.267270</td>\n    </tr>\n    <tr>\n      <th>42</th>\n      <td>Colombia</td>\n      <td>15.982620</td>\n      <td>55.327492</td>\n    </tr>\n    <tr>\n      <th>46</th>\n      <td>Costa Rica</td>\n      <td>26.086670</td>\n      <td>55.207939</td>\n    </tr>\n  </tbody>\n</table>\n</div>"
     },
     "metadata": {},
     "execution_count": 31
    }
   ],
   "source": [
    "filter_databank = select_databank[select_databank[EDUCATION_SPENDING].notna() & select_databank[TERTIARY_SCHOOL_ENROLLMENT].notna()]\n",
    "print(filter_databank.shape)\n",
    "filter_databank.head(10)"
   ]
  },
  {
   "source": [
    "### 4-a. The 'filter_databank' is sorted in descending order according to the 'EDUCATION_SPENDING' column. The first ten rows are displayed using the head method."
   ],
   "cell_type": "markdown",
   "metadata": {}
  },
  {
   "cell_type": "code",
   "execution_count": 47,
   "metadata": {},
   "outputs": [
    {
     "output_type": "execute_result",
     "data": {
      "text/plain": [
       "                Country  SE.XPD.TOTL.GB.ZS  SE.TER.ENRR\n",
       "46           Costa Rica          26.086670    55.207939\n",
       "91             Honduras          22.954359    26.164221\n",
       "22               Bhutan          22.766460    15.554510\n",
       "30         Burkina Faso          22.661169     6.501870\n",
       "221                Togo          21.769091    14.523930\n",
       "190             Senegal          21.529409    12.762590\n",
       "19               Belize          21.365290    24.540840\n",
       "102  Iran, Islamic Rep.          21.145679    62.785080\n",
       "31              Burundi          19.919870     4.057660\n",
       "136          Madagascar          19.818220     5.350490"
      ],
      "text/html": "<div>\n<style scoped>\n    .dataframe tbody tr th:only-of-type {\n        vertical-align: middle;\n    }\n\n    .dataframe tbody tr th {\n        vertical-align: top;\n    }\n\n    .dataframe thead th {\n        text-align: right;\n    }\n</style>\n<table border=\"1\" class=\"dataframe\">\n  <thead>\n    <tr style=\"text-align: right;\">\n      <th></th>\n      <th>Country</th>\n      <th>SE.XPD.TOTL.GB.ZS</th>\n      <th>SE.TER.ENRR</th>\n    </tr>\n  </thead>\n  <tbody>\n    <tr>\n      <th>46</th>\n      <td>Costa Rica</td>\n      <td>26.086670</td>\n      <td>55.207939</td>\n    </tr>\n    <tr>\n      <th>91</th>\n      <td>Honduras</td>\n      <td>22.954359</td>\n      <td>26.164221</td>\n    </tr>\n    <tr>\n      <th>22</th>\n      <td>Bhutan</td>\n      <td>22.766460</td>\n      <td>15.554510</td>\n    </tr>\n    <tr>\n      <th>30</th>\n      <td>Burkina Faso</td>\n      <td>22.661169</td>\n      <td>6.501870</td>\n    </tr>\n    <tr>\n      <th>221</th>\n      <td>Togo</td>\n      <td>21.769091</td>\n      <td>14.523930</td>\n    </tr>\n    <tr>\n      <th>190</th>\n      <td>Senegal</td>\n      <td>21.529409</td>\n      <td>12.762590</td>\n    </tr>\n    <tr>\n      <th>19</th>\n      <td>Belize</td>\n      <td>21.365290</td>\n      <td>24.540840</td>\n    </tr>\n    <tr>\n      <th>102</th>\n      <td>Iran, Islamic Rep.</td>\n      <td>21.145679</td>\n      <td>62.785080</td>\n    </tr>\n    <tr>\n      <th>31</th>\n      <td>Burundi</td>\n      <td>19.919870</td>\n      <td>4.057660</td>\n    </tr>\n    <tr>\n      <th>136</th>\n      <td>Madagascar</td>\n      <td>19.818220</td>\n      <td>5.350490</td>\n    </tr>\n  </tbody>\n</table>\n</div>"
     },
     "metadata": {},
     "execution_count": 47
    }
   ],
   "source": [
    "sort_databank = filter_databank.sort_values(by=EDUCATION_SPENDING, ascending=False)\n",
    "sort_databank.head(10)"
   ]
  },
  {
   "source": [
    "### 4-b. The 'filter_databank' is sorted in descending order according to the 'TERTIARY_SCHOOL_SPENDING' column. The first ten rows are displayed using the head method."
   ],
   "cell_type": "markdown",
   "metadata": {}
  },
  {
   "cell_type": "code",
   "execution_count": 48,
   "metadata": {},
   "outputs": [
    {
     "output_type": "execute_result",
     "data": {
      "text/plain": [
       "                                        Country  SE.XPD.TOTL.GB.ZS  \\\n",
       "135                            Macao SAR, China          14.667030   \n",
       "92                         Hong Kong SAR, China          18.787840   \n",
       "191                                      Serbia           8.804280   \n",
       "102                          Iran, Islamic Rep.          21.145679   \n",
       "79                                      Georgia          12.951500   \n",
       "42                                     Colombia          15.982620   \n",
       "46                                   Costa Rica          26.086670   \n",
       "111                                  Kazakhstan          13.880180   \n",
       "138                                    Malaysia          19.738640   \n",
       "58   East Asia & Pacific (IDA & IBRD countries)           9.594005   \n",
       "\n",
       "     SE.TER.ENRR  \n",
       "135    90.657097  \n",
       "92     76.922234  \n",
       "191    67.158661  \n",
       "102    62.785080  \n",
       "79     60.334450  \n",
       "42     55.327492  \n",
       "46     55.207939  \n",
       "111    53.988251  \n",
       "138    45.125389  \n",
       "58     44.139858  "
      ],
      "text/html": "<div>\n<style scoped>\n    .dataframe tbody tr th:only-of-type {\n        vertical-align: middle;\n    }\n\n    .dataframe tbody tr th {\n        vertical-align: top;\n    }\n\n    .dataframe thead th {\n        text-align: right;\n    }\n</style>\n<table border=\"1\" class=\"dataframe\">\n  <thead>\n    <tr style=\"text-align: right;\">\n      <th></th>\n      <th>Country</th>\n      <th>SE.XPD.TOTL.GB.ZS</th>\n      <th>SE.TER.ENRR</th>\n    </tr>\n  </thead>\n  <tbody>\n    <tr>\n      <th>135</th>\n      <td>Macao SAR, China</td>\n      <td>14.667030</td>\n      <td>90.657097</td>\n    </tr>\n    <tr>\n      <th>92</th>\n      <td>Hong Kong SAR, China</td>\n      <td>18.787840</td>\n      <td>76.922234</td>\n    </tr>\n    <tr>\n      <th>191</th>\n      <td>Serbia</td>\n      <td>8.804280</td>\n      <td>67.158661</td>\n    </tr>\n    <tr>\n      <th>102</th>\n      <td>Iran, Islamic Rep.</td>\n      <td>21.145679</td>\n      <td>62.785080</td>\n    </tr>\n    <tr>\n      <th>79</th>\n      <td>Georgia</td>\n      <td>12.951500</td>\n      <td>60.334450</td>\n    </tr>\n    <tr>\n      <th>42</th>\n      <td>Colombia</td>\n      <td>15.982620</td>\n      <td>55.327492</td>\n    </tr>\n    <tr>\n      <th>46</th>\n      <td>Costa Rica</td>\n      <td>26.086670</td>\n      <td>55.207939</td>\n    </tr>\n    <tr>\n      <th>111</th>\n      <td>Kazakhstan</td>\n      <td>13.880180</td>\n      <td>53.988251</td>\n    </tr>\n    <tr>\n      <th>138</th>\n      <td>Malaysia</td>\n      <td>19.738640</td>\n      <td>45.125389</td>\n    </tr>\n    <tr>\n      <th>58</th>\n      <td>East Asia &amp; Pacific (IDA &amp; IBRD countries)</td>\n      <td>9.594005</td>\n      <td>44.139858</td>\n    </tr>\n  </tbody>\n</table>\n</div>"
     },
     "metadata": {},
     "execution_count": 48
    }
   ],
   "source": [
    "sort_databank = filter_databank.sort_values(by=TERTIARY_SCHOOL_ENROLLMENT, ascending=False)\n",
    "sort_databank.head(10)"
   ]
  },
  {
   "source": [
    "### 5. Below is a Scatter Plot with 'EDUCATION_SPENDING' serving as the x-axis and 'TERTIARY_SCHOOL_ENROLLMENT' serving as the y-axis."
   ],
   "cell_type": "markdown",
   "metadata": {}
  },
  {
   "cell_type": "code",
   "execution_count": 55,
   "metadata": {},
   "outputs": [
    {
     "output_type": "execute_result",
     "data": {
      "text/plain": [
       "Text(0, 0.5, 'Tertiary School Enrollment (%)')"
      ]
     },
     "metadata": {},
     "execution_count": 55
    },
    {
     "output_type": "display_data",
     "data": {
      "text/plain": "<Figure size 432x288 with 1 Axes>",
      "image/svg+xml": "<?xml version=\"1.0\" encoding=\"utf-8\" standalone=\"no\"?>\n<!DOCTYPE svg PUBLIC \"-//W3C//DTD SVG 1.1//EN\"\n  \"http://www.w3.org/Graphics/SVG/1.1/DTD/svg11.dtd\">\n<!-- Created with matplotlib (https://matplotlib.org/) -->\n<svg height=\"262.19625pt\" version=\"1.1\" viewBox=\"0 0 382.603125 262.19625\" width=\"382.603125pt\" xmlns=\"http://www.w3.org/2000/svg\" xmlns:xlink=\"http://www.w3.org/1999/xlink\">\n <metadata>\n  <rdf:RDF xmlns:cc=\"http://creativecommons.org/ns#\" xmlns:dc=\"http://purl.org/dc/elements/1.1/\" xmlns:rdf=\"http://www.w3.org/1999/02/22-rdf-syntax-ns#\">\n   <cc:Work>\n    <dc:type rdf:resource=\"http://purl.org/dc/dcmitype/StillImage\"/>\n    <dc:date>2021-04-28T17:52:46.566171</dc:date>\n    <dc:format>image/svg+xml</dc:format>\n    <dc:creator>\n     <cc:Agent>\n      <dc:title>Matplotlib v3.3.4, https://matplotlib.org/</dc:title>\n     </cc:Agent>\n    </dc:creator>\n   </cc:Work>\n  </rdf:RDF>\n </metadata>\n <defs>\n  <style type=\"text/css\">*{stroke-linecap:butt;stroke-linejoin:round;}</style>\n </defs>\n <g id=\"figure_1\">\n  <g id=\"patch_1\">\n   <path d=\"M 0 262.19625 \nL 382.603125 262.19625 \nL 382.603125 0 \nL 0 0 \nz\n\" style=\"fill:none;\"/>\n  </g>\n  <g id=\"axes_1\">\n   <g id=\"patch_2\">\n    <path d=\"M 40.603125 224.64 \nL 375.403125 224.64 \nL 375.403125 7.2 \nL 40.603125 7.2 \nz\n\" style=\"fill:#ffffff;\"/>\n   </g>\n   <g id=\"PathCollection_1\">\n    <defs>\n     <path d=\"M 0 2.236068 \nC 0.593012 2.236068 1.161816 2.000462 1.581139 1.581139 \nC 2.000462 1.161816 2.236068 0.593012 2.236068 0 \nC 2.236068 -0.593012 2.000462 -1.161816 1.581139 -1.581139 \nC 1.161816 -2.000462 0.593012 -2.236068 0 -2.236068 \nC -0.593012 -2.236068 -1.161816 -2.000462 -1.581139 -1.581139 \nC -2.000462 -1.161816 -2.236068 -0.593012 -2.236068 0 \nC -2.236068 0.593012 -2.000462 1.161816 -1.581139 1.581139 \nC -1.161816 2.000462 -0.593012 2.236068 0 2.236068 \nz\n\" id=\"m68087f5a07\" style=\"stroke:#ff0000;\"/>\n    </defs>\n    <g clip-path=\"url(#pc64996813c)\">\n     <use style=\"fill:#ff0000;stroke:#ff0000;\" x=\"173.831186\" xlink:href=\"#m68087f5a07\" y=\"17.083636\"/>\n     <use style=\"fill:#ff0000;stroke:#ff0000;\" x=\"241.077471\" xlink:href=\"#m68087f5a07\" y=\"48.434971\"/>\n     <use style=\"fill:#ff0000;stroke:#ff0000;\" x=\"78.158683\" xlink:href=\"#m68087f5a07\" y=\"70.721398\"/>\n     <use style=\"fill:#ff0000;stroke:#ff0000;\" x=\"279.554366\" xlink:href=\"#m68087f5a07\" y=\"80.704577\"/>\n     <use style=\"fill:#ff0000;stroke:#ff0000;\" x=\"145.835947\" xlink:href=\"#m68087f5a07\" y=\"86.298409\"/>\n     <use style=\"fill:#ff0000;stroke:#ff0000;\" x=\"195.299913\" xlink:href=\"#m68087f5a07\" y=\"97.727341\"/>\n     <use style=\"fill:#ff0000;stroke:#ff0000;\" x=\"360.184943\" xlink:href=\"#m68087f5a07\" y=\"98.000233\"/>\n     <use style=\"fill:#ff0000;stroke:#ff0000;\" x=\"160.990811\" xlink:href=\"#m68087f5a07\" y=\"100.784306\"/>\n     <use style=\"fill:#ff0000;stroke:#ff0000;\" x=\"256.593297\" xlink:href=\"#m68087f5a07\" y=\"121.014761\"/>\n     <use style=\"fill:#ff0000;stroke:#ff0000;\" x=\"91.045964\" xlink:href=\"#m68087f5a07\" y=\"123.264343\"/>\n     <use style=\"fill:#ff0000;stroke:#ff0000;\" x=\"162.913805\" xlink:href=\"#m68087f5a07\" y=\"127.073102\"/>\n     <use style=\"fill:#ff0000;stroke:#ff0000;\" x=\"219.426785\" xlink:href=\"#m68087f5a07\" y=\"133.122065\"/>\n     <use style=\"fill:#ff0000;stroke:#ff0000;\" x=\"94.751544\" xlink:href=\"#m68087f5a07\" y=\"145.461667\"/>\n     <use style=\"fill:#ff0000;stroke:#ff0000;\" x=\"178.367286\" xlink:href=\"#m68087f5a07\" y=\"156.973764\"/>\n     <use style=\"fill:#ff0000;stroke:#ff0000;\" x=\"55.821307\" xlink:href=\"#m68087f5a07\" y=\"160.770724\"/>\n     <use style=\"fill:#ff0000;stroke:#ff0000;\" x=\"309.069679\" xlink:href=\"#m68087f5a07\" y=\"164.29571\"/>\n     <use style=\"fill:#ff0000;stroke:#ff0000;\" x=\"283.138121\" xlink:href=\"#m68087f5a07\" y=\"168.001255\"/>\n     <use style=\"fill:#ff0000;stroke:#ff0000;\" x=\"242.475658\" xlink:href=\"#m68087f5a07\" y=\"169.68783\"/>\n     <use style=\"fill:#ff0000;stroke:#ff0000;\" x=\"209.995552\" xlink:href=\"#m68087f5a07\" y=\"169.984363\"/>\n     <use style=\"fill:#ff0000;stroke:#ff0000;\" x=\"119.389683\" xlink:href=\"#m68087f5a07\" y=\"179.210241\"/>\n     <use style=\"fill:#ff0000;stroke:#ff0000;\" x=\"103.366994\" xlink:href=\"#m68087f5a07\" y=\"181.068967\"/>\n     <use style=\"fill:#ff0000;stroke:#ff0000;\" x=\"237.982293\" xlink:href=\"#m68087f5a07\" y=\"188.200231\"/>\n     <use style=\"fill:#ff0000;stroke:#ff0000;\" x=\"306.003416\" xlink:href=\"#m68087f5a07\" y=\"188.513541\"/>\n     <use style=\"fill:#ff0000;stroke:#ff0000;\" x=\"289.72763\" xlink:href=\"#m68087f5a07\" y=\"190.865954\"/>\n     <use style=\"fill:#ff0000;stroke:#ff0000;\" x=\"209.995552\" xlink:href=\"#m68087f5a07\" y=\"191.451807\"/>\n     <use style=\"fill:#ff0000;stroke:#ff0000;\" x=\"168.88384\" xlink:href=\"#m68087f5a07\" y=\"191.910018\"/>\n     <use style=\"fill:#ff0000;stroke:#ff0000;\" x=\"78.724933\" xlink:href=\"#m68087f5a07\" y=\"192.774602\"/>\n     <use style=\"fill:#ff0000;stroke:#ff0000;\" x=\"285.816342\" xlink:href=\"#m68087f5a07\" y=\"194.886404\"/>\n     <use style=\"fill:#ff0000;stroke:#ff0000;\" x=\"223.47515\" xlink:href=\"#m68087f5a07\" y=\"195.447015\"/>\n     <use style=\"fill:#ff0000;stroke:#ff0000;\" x=\"164.608493\" xlink:href=\"#m68087f5a07\" y=\"195.689267\"/>\n     <use style=\"fill:#ff0000;stroke:#ff0000;\" x=\"210.508048\" xlink:href=\"#m68087f5a07\" y=\"197.090973\"/>\n     <use style=\"fill:#ff0000;stroke:#ff0000;\" x=\"184.571012\" xlink:href=\"#m68087f5a07\" y=\"199.859939\"/>\n     <use style=\"fill:#ff0000;stroke:#ff0000;\" x=\"161.200504\" xlink:href=\"#m68087f5a07\" y=\"200.744334\"/>\n     <use style=\"fill:#ff0000;stroke:#ff0000;\" x=\"199.262091\" xlink:href=\"#m68087f5a07\" y=\"201.340234\"/>\n     <use style=\"fill:#ff0000;stroke:#ff0000;\" x=\"191.996676\" xlink:href=\"#m68087f5a07\" y=\"202.269734\"/>\n     <use style=\"fill:#ff0000;stroke:#ff0000;\" x=\"226.272644\" xlink:href=\"#m68087f5a07\" y=\"202.461475\"/>\n     <use style=\"fill:#ff0000;stroke:#ff0000;\" x=\"226.272644\" xlink:href=\"#m68087f5a07\" y=\"202.461475\"/>\n     <use style=\"fill:#ff0000;stroke:#ff0000;\" x=\"224.873897\" xlink:href=\"#m68087f5a07\" y=\"202.53502\"/>\n     <use style=\"fill:#ff0000;stroke:#ff0000;\" x=\"223.47515\" xlink:href=\"#m68087f5a07\" y=\"203.753956\"/>\n     <use style=\"fill:#ff0000;stroke:#ff0000;\" x=\"218.080422\" xlink:href=\"#m68087f5a07\" y=\"204.117371\"/>\n     <use style=\"fill:#ff0000;stroke:#ff0000;\" x=\"226.272644\" xlink:href=\"#m68087f5a07\" y=\"207.32672\"/>\n     <use style=\"fill:#ff0000;stroke:#ff0000;\" x=\"110.801483\" xlink:href=\"#m68087f5a07\" y=\"208.666224\"/>\n     <use style=\"fill:#ff0000;stroke:#ff0000;\" x=\"304.285197\" xlink:href=\"#m68087f5a07\" y=\"209.177186\"/>\n     <use style=\"fill:#ff0000;stroke:#ff0000;\" x=\"257.891945\" xlink:href=\"#m68087f5a07\" y=\"211.805337\"/>\n     <use style=\"fill:#ff0000;stroke:#ff0000;\" x=\"208.330401\" xlink:href=\"#m68087f5a07\" y=\"213.94218\"/>\n     <use style=\"fill:#ff0000;stroke:#ff0000;\" x=\"259.550746\" xlink:href=\"#m68087f5a07\" y=\"214.756364\"/>\n    </g>\n   </g>\n   <g id=\"matplotlib.axis_1\">\n    <g id=\"xtick_1\">\n     <g id=\"line2d_1\">\n      <defs>\n       <path d=\"M 0 0 \nL 0 3.5 \n\" id=\"m51ce1399c6\" style=\"stroke:#000000;stroke-width:0.8;\"/>\n      </defs>\n      <g>\n       <use style=\"stroke:#000000;stroke-width:0.8;\" x=\"56.874515\" xlink:href=\"#m51ce1399c6\" y=\"224.64\"/>\n      </g>\n     </g>\n     <g id=\"text_1\">\n      <!-- 7.5 -->\n      <g transform=\"translate(48.922952 239.238437)scale(0.1 -0.1)\">\n       <defs>\n        <path d=\"M 8.203125 72.90625 \nL 55.078125 72.90625 \nL 55.078125 68.703125 \nL 28.609375 0 \nL 18.3125 0 \nL 43.21875 64.59375 \nL 8.203125 64.59375 \nz\n\" id=\"DejaVuSans-55\"/>\n        <path d=\"M 10.6875 12.40625 \nL 21 12.40625 \nL 21 0 \nL 10.6875 0 \nz\n\" id=\"DejaVuSans-46\"/>\n        <path d=\"M 10.796875 72.90625 \nL 49.515625 72.90625 \nL 49.515625 64.59375 \nL 19.828125 64.59375 \nL 19.828125 46.734375 \nQ 21.96875 47.46875 24.109375 47.828125 \nQ 26.265625 48.1875 28.421875 48.1875 \nQ 40.625 48.1875 47.75 41.5 \nQ 54.890625 34.8125 54.890625 23.390625 \nQ 54.890625 11.625 47.5625 5.09375 \nQ 40.234375 -1.421875 26.90625 -1.421875 \nQ 22.3125 -1.421875 17.546875 -0.640625 \nQ 12.796875 0.140625 7.71875 1.703125 \nL 7.71875 11.625 \nQ 12.109375 9.234375 16.796875 8.0625 \nQ 21.484375 6.890625 26.703125 6.890625 \nQ 35.15625 6.890625 40.078125 11.328125 \nQ 45.015625 15.765625 45.015625 23.390625 \nQ 45.015625 31 40.078125 35.4375 \nQ 35.15625 39.890625 26.703125 39.890625 \nQ 22.75 39.890625 18.8125 39.015625 \nQ 14.890625 38.140625 10.796875 36.28125 \nz\n\" id=\"DejaVuSans-53\"/>\n       </defs>\n       <use xlink:href=\"#DejaVuSans-55\"/>\n       <use x=\"63.623047\" xlink:href=\"#DejaVuSans-46\"/>\n       <use x=\"95.410156\" xlink:href=\"#DejaVuSans-53\"/>\n      </g>\n     </g>\n    </g>\n    <g id=\"xtick_2\">\n     <g id=\"line2d_2\">\n      <g>\n       <use style=\"stroke:#000000;stroke-width:0.8;\" x=\"97.671283\" xlink:href=\"#m51ce1399c6\" y=\"224.64\"/>\n      </g>\n     </g>\n     <g id=\"text_2\">\n      <!-- 10.0 -->\n      <g transform=\"translate(86.538471 239.238437)scale(0.1 -0.1)\">\n       <defs>\n        <path d=\"M 12.40625 8.296875 \nL 28.515625 8.296875 \nL 28.515625 63.921875 \nL 10.984375 60.40625 \nL 10.984375 69.390625 \nL 28.421875 72.90625 \nL 38.28125 72.90625 \nL 38.28125 8.296875 \nL 54.390625 8.296875 \nL 54.390625 0 \nL 12.40625 0 \nz\n\" id=\"DejaVuSans-49\"/>\n        <path d=\"M 31.78125 66.40625 \nQ 24.171875 66.40625 20.328125 58.90625 \nQ 16.5 51.421875 16.5 36.375 \nQ 16.5 21.390625 20.328125 13.890625 \nQ 24.171875 6.390625 31.78125 6.390625 \nQ 39.453125 6.390625 43.28125 13.890625 \nQ 47.125 21.390625 47.125 36.375 \nQ 47.125 51.421875 43.28125 58.90625 \nQ 39.453125 66.40625 31.78125 66.40625 \nz\nM 31.78125 74.21875 \nQ 44.046875 74.21875 50.515625 64.515625 \nQ 56.984375 54.828125 56.984375 36.375 \nQ 56.984375 17.96875 50.515625 8.265625 \nQ 44.046875 -1.421875 31.78125 -1.421875 \nQ 19.53125 -1.421875 13.0625 8.265625 \nQ 6.59375 17.96875 6.59375 36.375 \nQ 6.59375 54.828125 13.0625 64.515625 \nQ 19.53125 74.21875 31.78125 74.21875 \nz\n\" id=\"DejaVuSans-48\"/>\n       </defs>\n       <use xlink:href=\"#DejaVuSans-49\"/>\n       <use x=\"63.623047\" xlink:href=\"#DejaVuSans-48\"/>\n       <use x=\"127.246094\" xlink:href=\"#DejaVuSans-46\"/>\n       <use x=\"159.033203\" xlink:href=\"#DejaVuSans-48\"/>\n      </g>\n     </g>\n    </g>\n    <g id=\"xtick_3\">\n     <g id=\"line2d_3\">\n      <g>\n       <use style=\"stroke:#000000;stroke-width:0.8;\" x=\"138.468052\" xlink:href=\"#m51ce1399c6\" y=\"224.64\"/>\n      </g>\n     </g>\n     <g id=\"text_3\">\n      <!-- 12.5 -->\n      <g transform=\"translate(127.335239 239.238437)scale(0.1 -0.1)\">\n       <defs>\n        <path d=\"M 19.1875 8.296875 \nL 53.609375 8.296875 \nL 53.609375 0 \nL 7.328125 0 \nL 7.328125 8.296875 \nQ 12.9375 14.109375 22.625 23.890625 \nQ 32.328125 33.6875 34.8125 36.53125 \nQ 39.546875 41.84375 41.421875 45.53125 \nQ 43.3125 49.21875 43.3125 52.78125 \nQ 43.3125 58.59375 39.234375 62.25 \nQ 35.15625 65.921875 28.609375 65.921875 \nQ 23.96875 65.921875 18.8125 64.3125 \nQ 13.671875 62.703125 7.8125 59.421875 \nL 7.8125 69.390625 \nQ 13.765625 71.78125 18.9375 73 \nQ 24.125 74.21875 28.421875 74.21875 \nQ 39.75 74.21875 46.484375 68.546875 \nQ 53.21875 62.890625 53.21875 53.421875 \nQ 53.21875 48.921875 51.53125 44.890625 \nQ 49.859375 40.875 45.40625 35.40625 \nQ 44.1875 33.984375 37.640625 27.21875 \nQ 31.109375 20.453125 19.1875 8.296875 \nz\n\" id=\"DejaVuSans-50\"/>\n       </defs>\n       <use xlink:href=\"#DejaVuSans-49\"/>\n       <use x=\"63.623047\" xlink:href=\"#DejaVuSans-50\"/>\n       <use x=\"127.246094\" xlink:href=\"#DejaVuSans-46\"/>\n       <use x=\"159.033203\" xlink:href=\"#DejaVuSans-53\"/>\n      </g>\n     </g>\n    </g>\n    <g id=\"xtick_4\">\n     <g id=\"line2d_4\">\n      <g>\n       <use style=\"stroke:#000000;stroke-width:0.8;\" x=\"179.26482\" xlink:href=\"#m51ce1399c6\" y=\"224.64\"/>\n      </g>\n     </g>\n     <g id=\"text_4\">\n      <!-- 15.0 -->\n      <g transform=\"translate(168.132008 239.238437)scale(0.1 -0.1)\">\n       <use xlink:href=\"#DejaVuSans-49\"/>\n       <use x=\"63.623047\" xlink:href=\"#DejaVuSans-53\"/>\n       <use x=\"127.246094\" xlink:href=\"#DejaVuSans-46\"/>\n       <use x=\"159.033203\" xlink:href=\"#DejaVuSans-48\"/>\n      </g>\n     </g>\n    </g>\n    <g id=\"xtick_5\">\n     <g id=\"line2d_5\">\n      <g>\n       <use style=\"stroke:#000000;stroke-width:0.8;\" x=\"220.061589\" xlink:href=\"#m51ce1399c6\" y=\"224.64\"/>\n      </g>\n     </g>\n     <g id=\"text_5\">\n      <!-- 17.5 -->\n      <g transform=\"translate(208.928776 239.238437)scale(0.1 -0.1)\">\n       <use xlink:href=\"#DejaVuSans-49\"/>\n       <use x=\"63.623047\" xlink:href=\"#DejaVuSans-55\"/>\n       <use x=\"127.246094\" xlink:href=\"#DejaVuSans-46\"/>\n       <use x=\"159.033203\" xlink:href=\"#DejaVuSans-53\"/>\n      </g>\n     </g>\n    </g>\n    <g id=\"xtick_6\">\n     <g id=\"line2d_6\">\n      <g>\n       <use style=\"stroke:#000000;stroke-width:0.8;\" x=\"260.858358\" xlink:href=\"#m51ce1399c6\" y=\"224.64\"/>\n      </g>\n     </g>\n     <g id=\"text_6\">\n      <!-- 20.0 -->\n      <g transform=\"translate(249.725545 239.238437)scale(0.1 -0.1)\">\n       <use xlink:href=\"#DejaVuSans-50\"/>\n       <use x=\"63.623047\" xlink:href=\"#DejaVuSans-48\"/>\n       <use x=\"127.246094\" xlink:href=\"#DejaVuSans-46\"/>\n       <use x=\"159.033203\" xlink:href=\"#DejaVuSans-48\"/>\n      </g>\n     </g>\n    </g>\n    <g id=\"xtick_7\">\n     <g id=\"line2d_7\">\n      <g>\n       <use style=\"stroke:#000000;stroke-width:0.8;\" x=\"301.655126\" xlink:href=\"#m51ce1399c6\" y=\"224.64\"/>\n      </g>\n     </g>\n     <g id=\"text_7\">\n      <!-- 22.5 -->\n      <g transform=\"translate(290.522314 239.238437)scale(0.1 -0.1)\">\n       <use xlink:href=\"#DejaVuSans-50\"/>\n       <use x=\"63.623047\" xlink:href=\"#DejaVuSans-50\"/>\n       <use x=\"127.246094\" xlink:href=\"#DejaVuSans-46\"/>\n       <use x=\"159.033203\" xlink:href=\"#DejaVuSans-53\"/>\n      </g>\n     </g>\n    </g>\n    <g id=\"xtick_8\">\n     <g id=\"line2d_8\">\n      <g>\n       <use style=\"stroke:#000000;stroke-width:0.8;\" x=\"342.451895\" xlink:href=\"#m51ce1399c6\" y=\"224.64\"/>\n      </g>\n     </g>\n     <g id=\"text_8\">\n      <!-- 25.0 -->\n      <g transform=\"translate(331.319082 239.238437)scale(0.1 -0.1)\">\n       <use xlink:href=\"#DejaVuSans-50\"/>\n       <use x=\"63.623047\" xlink:href=\"#DejaVuSans-53\"/>\n       <use x=\"127.246094\" xlink:href=\"#DejaVuSans-46\"/>\n       <use x=\"159.033203\" xlink:href=\"#DejaVuSans-48\"/>\n      </g>\n     </g>\n    </g>\n    <g id=\"text_9\">\n     <!-- Government Expenditure on Education (%) -->\n     <g transform=\"translate(100.441406 252.916562)scale(0.1 -0.1)\">\n      <defs>\n       <path d=\"M 59.515625 10.40625 \nL 59.515625 29.984375 \nL 43.40625 29.984375 \nL 43.40625 38.09375 \nL 69.28125 38.09375 \nL 69.28125 6.78125 \nQ 63.578125 2.734375 56.6875 0.65625 \nQ 49.8125 -1.421875 42 -1.421875 \nQ 24.90625 -1.421875 15.25 8.5625 \nQ 5.609375 18.5625 5.609375 36.375 \nQ 5.609375 54.25 15.25 64.234375 \nQ 24.90625 74.21875 42 74.21875 \nQ 49.125 74.21875 55.546875 72.453125 \nQ 61.96875 70.703125 67.390625 67.28125 \nL 67.390625 56.78125 \nQ 61.921875 61.421875 55.765625 63.765625 \nQ 49.609375 66.109375 42.828125 66.109375 \nQ 29.4375 66.109375 22.71875 58.640625 \nQ 16.015625 51.171875 16.015625 36.375 \nQ 16.015625 21.625 22.71875 14.15625 \nQ 29.4375 6.6875 42.828125 6.6875 \nQ 48.046875 6.6875 52.140625 7.59375 \nQ 56.25 8.5 59.515625 10.40625 \nz\n\" id=\"DejaVuSans-71\"/>\n       <path d=\"M 30.609375 48.390625 \nQ 23.390625 48.390625 19.1875 42.75 \nQ 14.984375 37.109375 14.984375 27.296875 \nQ 14.984375 17.484375 19.15625 11.84375 \nQ 23.34375 6.203125 30.609375 6.203125 \nQ 37.796875 6.203125 41.984375 11.859375 \nQ 46.1875 17.53125 46.1875 27.296875 \nQ 46.1875 37.015625 41.984375 42.703125 \nQ 37.796875 48.390625 30.609375 48.390625 \nz\nM 30.609375 56 \nQ 42.328125 56 49.015625 48.375 \nQ 55.71875 40.765625 55.71875 27.296875 \nQ 55.71875 13.875 49.015625 6.21875 \nQ 42.328125 -1.421875 30.609375 -1.421875 \nQ 18.84375 -1.421875 12.171875 6.21875 \nQ 5.515625 13.875 5.515625 27.296875 \nQ 5.515625 40.765625 12.171875 48.375 \nQ 18.84375 56 30.609375 56 \nz\n\" id=\"DejaVuSans-111\"/>\n       <path d=\"M 2.984375 54.6875 \nL 12.5 54.6875 \nL 29.59375 8.796875 \nL 46.6875 54.6875 \nL 56.203125 54.6875 \nL 35.6875 0 \nL 23.484375 0 \nz\n\" id=\"DejaVuSans-118\"/>\n       <path d=\"M 56.203125 29.59375 \nL 56.203125 25.203125 \nL 14.890625 25.203125 \nQ 15.484375 15.921875 20.484375 11.0625 \nQ 25.484375 6.203125 34.421875 6.203125 \nQ 39.59375 6.203125 44.453125 7.46875 \nQ 49.3125 8.734375 54.109375 11.28125 \nL 54.109375 2.78125 \nQ 49.265625 0.734375 44.1875 -0.34375 \nQ 39.109375 -1.421875 33.890625 -1.421875 \nQ 20.796875 -1.421875 13.15625 6.1875 \nQ 5.515625 13.8125 5.515625 26.8125 \nQ 5.515625 40.234375 12.765625 48.109375 \nQ 20.015625 56 32.328125 56 \nQ 43.359375 56 49.78125 48.890625 \nQ 56.203125 41.796875 56.203125 29.59375 \nz\nM 47.21875 32.234375 \nQ 47.125 39.59375 43.09375 43.984375 \nQ 39.0625 48.390625 32.421875 48.390625 \nQ 24.90625 48.390625 20.390625 44.140625 \nQ 15.875 39.890625 15.1875 32.171875 \nz\n\" id=\"DejaVuSans-101\"/>\n       <path d=\"M 41.109375 46.296875 \nQ 39.59375 47.171875 37.8125 47.578125 \nQ 36.03125 48 33.890625 48 \nQ 26.265625 48 22.1875 43.046875 \nQ 18.109375 38.09375 18.109375 28.8125 \nL 18.109375 0 \nL 9.078125 0 \nL 9.078125 54.6875 \nL 18.109375 54.6875 \nL 18.109375 46.1875 \nQ 20.953125 51.171875 25.484375 53.578125 \nQ 30.03125 56 36.53125 56 \nQ 37.453125 56 38.578125 55.875 \nQ 39.703125 55.765625 41.0625 55.515625 \nz\n\" id=\"DejaVuSans-114\"/>\n       <path d=\"M 54.890625 33.015625 \nL 54.890625 0 \nL 45.90625 0 \nL 45.90625 32.71875 \nQ 45.90625 40.484375 42.875 44.328125 \nQ 39.84375 48.1875 33.796875 48.1875 \nQ 26.515625 48.1875 22.3125 43.546875 \nQ 18.109375 38.921875 18.109375 30.90625 \nL 18.109375 0 \nL 9.078125 0 \nL 9.078125 54.6875 \nL 18.109375 54.6875 \nL 18.109375 46.1875 \nQ 21.34375 51.125 25.703125 53.5625 \nQ 30.078125 56 35.796875 56 \nQ 45.21875 56 50.046875 50.171875 \nQ 54.890625 44.34375 54.890625 33.015625 \nz\n\" id=\"DejaVuSans-110\"/>\n       <path d=\"M 52 44.1875 \nQ 55.375 50.25 60.0625 53.125 \nQ 64.75 56 71.09375 56 \nQ 79.640625 56 84.28125 50.015625 \nQ 88.921875 44.046875 88.921875 33.015625 \nL 88.921875 0 \nL 79.890625 0 \nL 79.890625 32.71875 \nQ 79.890625 40.578125 77.09375 44.375 \nQ 74.3125 48.1875 68.609375 48.1875 \nQ 61.625 48.1875 57.5625 43.546875 \nQ 53.515625 38.921875 53.515625 30.90625 \nL 53.515625 0 \nL 44.484375 0 \nL 44.484375 32.71875 \nQ 44.484375 40.625 41.703125 44.40625 \nQ 38.921875 48.1875 33.109375 48.1875 \nQ 26.21875 48.1875 22.15625 43.53125 \nQ 18.109375 38.875 18.109375 30.90625 \nL 18.109375 0 \nL 9.078125 0 \nL 9.078125 54.6875 \nL 18.109375 54.6875 \nL 18.109375 46.1875 \nQ 21.1875 51.21875 25.484375 53.609375 \nQ 29.78125 56 35.6875 56 \nQ 41.65625 56 45.828125 52.96875 \nQ 50 49.953125 52 44.1875 \nz\n\" id=\"DejaVuSans-109\"/>\n       <path d=\"M 18.3125 70.21875 \nL 18.3125 54.6875 \nL 36.8125 54.6875 \nL 36.8125 47.703125 \nL 18.3125 47.703125 \nL 18.3125 18.015625 \nQ 18.3125 11.328125 20.140625 9.421875 \nQ 21.96875 7.515625 27.59375 7.515625 \nL 36.8125 7.515625 \nL 36.8125 0 \nL 27.59375 0 \nQ 17.1875 0 13.234375 3.875 \nQ 9.28125 7.765625 9.28125 18.015625 \nL 9.28125 47.703125 \nL 2.6875 47.703125 \nL 2.6875 54.6875 \nL 9.28125 54.6875 \nL 9.28125 70.21875 \nz\n\" id=\"DejaVuSans-116\"/>\n       <path id=\"DejaVuSans-32\"/>\n       <path d=\"M 9.8125 72.90625 \nL 55.90625 72.90625 \nL 55.90625 64.59375 \nL 19.671875 64.59375 \nL 19.671875 43.015625 \nL 54.390625 43.015625 \nL 54.390625 34.71875 \nL 19.671875 34.71875 \nL 19.671875 8.296875 \nL 56.78125 8.296875 \nL 56.78125 0 \nL 9.8125 0 \nz\n\" id=\"DejaVuSans-69\"/>\n       <path d=\"M 54.890625 54.6875 \nL 35.109375 28.078125 \nL 55.90625 0 \nL 45.3125 0 \nL 29.390625 21.484375 \nL 13.484375 0 \nL 2.875 0 \nL 24.125 28.609375 \nL 4.6875 54.6875 \nL 15.28125 54.6875 \nL 29.78125 35.203125 \nL 44.28125 54.6875 \nz\n\" id=\"DejaVuSans-120\"/>\n       <path d=\"M 18.109375 8.203125 \nL 18.109375 -20.796875 \nL 9.078125 -20.796875 \nL 9.078125 54.6875 \nL 18.109375 54.6875 \nL 18.109375 46.390625 \nQ 20.953125 51.265625 25.265625 53.625 \nQ 29.59375 56 35.59375 56 \nQ 45.5625 56 51.78125 48.09375 \nQ 58.015625 40.1875 58.015625 27.296875 \nQ 58.015625 14.40625 51.78125 6.484375 \nQ 45.5625 -1.421875 35.59375 -1.421875 \nQ 29.59375 -1.421875 25.265625 0.953125 \nQ 20.953125 3.328125 18.109375 8.203125 \nz\nM 48.6875 27.296875 \nQ 48.6875 37.203125 44.609375 42.84375 \nQ 40.53125 48.484375 33.40625 48.484375 \nQ 26.265625 48.484375 22.1875 42.84375 \nQ 18.109375 37.203125 18.109375 27.296875 \nQ 18.109375 17.390625 22.1875 11.75 \nQ 26.265625 6.109375 33.40625 6.109375 \nQ 40.53125 6.109375 44.609375 11.75 \nQ 48.6875 17.390625 48.6875 27.296875 \nz\n\" id=\"DejaVuSans-112\"/>\n       <path d=\"M 45.40625 46.390625 \nL 45.40625 75.984375 \nL 54.390625 75.984375 \nL 54.390625 0 \nL 45.40625 0 \nL 45.40625 8.203125 \nQ 42.578125 3.328125 38.25 0.953125 \nQ 33.9375 -1.421875 27.875 -1.421875 \nQ 17.96875 -1.421875 11.734375 6.484375 \nQ 5.515625 14.40625 5.515625 27.296875 \nQ 5.515625 40.1875 11.734375 48.09375 \nQ 17.96875 56 27.875 56 \nQ 33.9375 56 38.25 53.625 \nQ 42.578125 51.265625 45.40625 46.390625 \nz\nM 14.796875 27.296875 \nQ 14.796875 17.390625 18.875 11.75 \nQ 22.953125 6.109375 30.078125 6.109375 \nQ 37.203125 6.109375 41.296875 11.75 \nQ 45.40625 17.390625 45.40625 27.296875 \nQ 45.40625 37.203125 41.296875 42.84375 \nQ 37.203125 48.484375 30.078125 48.484375 \nQ 22.953125 48.484375 18.875 42.84375 \nQ 14.796875 37.203125 14.796875 27.296875 \nz\n\" id=\"DejaVuSans-100\"/>\n       <path d=\"M 9.421875 54.6875 \nL 18.40625 54.6875 \nL 18.40625 0 \nL 9.421875 0 \nz\nM 9.421875 75.984375 \nL 18.40625 75.984375 \nL 18.40625 64.59375 \nL 9.421875 64.59375 \nz\n\" id=\"DejaVuSans-105\"/>\n       <path d=\"M 8.5 21.578125 \nL 8.5 54.6875 \nL 17.484375 54.6875 \nL 17.484375 21.921875 \nQ 17.484375 14.15625 20.5 10.265625 \nQ 23.53125 6.390625 29.59375 6.390625 \nQ 36.859375 6.390625 41.078125 11.03125 \nQ 45.3125 15.671875 45.3125 23.6875 \nL 45.3125 54.6875 \nL 54.296875 54.6875 \nL 54.296875 0 \nL 45.3125 0 \nL 45.3125 8.40625 \nQ 42.046875 3.421875 37.71875 1 \nQ 33.40625 -1.421875 27.6875 -1.421875 \nQ 18.265625 -1.421875 13.375 4.4375 \nQ 8.5 10.296875 8.5 21.578125 \nz\nM 31.109375 56 \nz\n\" id=\"DejaVuSans-117\"/>\n       <path d=\"M 48.78125 52.59375 \nL 48.78125 44.1875 \nQ 44.96875 46.296875 41.140625 47.34375 \nQ 37.3125 48.390625 33.40625 48.390625 \nQ 24.65625 48.390625 19.8125 42.84375 \nQ 14.984375 37.3125 14.984375 27.296875 \nQ 14.984375 17.28125 19.8125 11.734375 \nQ 24.65625 6.203125 33.40625 6.203125 \nQ 37.3125 6.203125 41.140625 7.25 \nQ 44.96875 8.296875 48.78125 10.40625 \nL 48.78125 2.09375 \nQ 45.015625 0.34375 40.984375 -0.53125 \nQ 36.96875 -1.421875 32.421875 -1.421875 \nQ 20.0625 -1.421875 12.78125 6.34375 \nQ 5.515625 14.109375 5.515625 27.296875 \nQ 5.515625 40.671875 12.859375 48.328125 \nQ 20.21875 56 33.015625 56 \nQ 37.15625 56 41.109375 55.140625 \nQ 45.0625 54.296875 48.78125 52.59375 \nz\n\" id=\"DejaVuSans-99\"/>\n       <path d=\"M 34.28125 27.484375 \nQ 23.390625 27.484375 19.1875 25 \nQ 14.984375 22.515625 14.984375 16.5 \nQ 14.984375 11.71875 18.140625 8.90625 \nQ 21.296875 6.109375 26.703125 6.109375 \nQ 34.1875 6.109375 38.703125 11.40625 \nQ 43.21875 16.703125 43.21875 25.484375 \nL 43.21875 27.484375 \nz\nM 52.203125 31.203125 \nL 52.203125 0 \nL 43.21875 0 \nL 43.21875 8.296875 \nQ 40.140625 3.328125 35.546875 0.953125 \nQ 30.953125 -1.421875 24.3125 -1.421875 \nQ 15.921875 -1.421875 10.953125 3.296875 \nQ 6 8.015625 6 15.921875 \nQ 6 25.140625 12.171875 29.828125 \nQ 18.359375 34.515625 30.609375 34.515625 \nL 43.21875 34.515625 \nL 43.21875 35.40625 \nQ 43.21875 41.609375 39.140625 45 \nQ 35.0625 48.390625 27.6875 48.390625 \nQ 23 48.390625 18.546875 47.265625 \nQ 14.109375 46.140625 10.015625 43.890625 \nL 10.015625 52.203125 \nQ 14.9375 54.109375 19.578125 55.046875 \nQ 24.21875 56 28.609375 56 \nQ 40.484375 56 46.34375 49.84375 \nQ 52.203125 43.703125 52.203125 31.203125 \nz\n\" id=\"DejaVuSans-97\"/>\n       <path d=\"M 31 75.875 \nQ 24.46875 64.65625 21.28125 53.65625 \nQ 18.109375 42.671875 18.109375 31.390625 \nQ 18.109375 20.125 21.3125 9.0625 \nQ 24.515625 -2 31 -13.1875 \nL 23.1875 -13.1875 \nQ 15.875 -1.703125 12.234375 9.375 \nQ 8.59375 20.453125 8.59375 31.390625 \nQ 8.59375 42.28125 12.203125 53.3125 \nQ 15.828125 64.359375 23.1875 75.875 \nz\n\" id=\"DejaVuSans-40\"/>\n       <path d=\"M 72.703125 32.078125 \nQ 68.453125 32.078125 66.03125 28.46875 \nQ 63.625 24.859375 63.625 18.40625 \nQ 63.625 12.0625 66.03125 8.421875 \nQ 68.453125 4.78125 72.703125 4.78125 \nQ 76.859375 4.78125 79.265625 8.421875 \nQ 81.6875 12.0625 81.6875 18.40625 \nQ 81.6875 24.8125 79.265625 28.4375 \nQ 76.859375 32.078125 72.703125 32.078125 \nz\nM 72.703125 38.28125 \nQ 80.421875 38.28125 84.953125 32.90625 \nQ 89.5 27.546875 89.5 18.40625 \nQ 89.5 9.28125 84.9375 3.921875 \nQ 80.375 -1.421875 72.703125 -1.421875 \nQ 64.890625 -1.421875 60.34375 3.921875 \nQ 55.8125 9.28125 55.8125 18.40625 \nQ 55.8125 27.59375 60.375 32.9375 \nQ 64.9375 38.28125 72.703125 38.28125 \nz\nM 22.3125 68.015625 \nQ 18.109375 68.015625 15.6875 64.375 \nQ 13.28125 60.75 13.28125 54.390625 \nQ 13.28125 47.953125 15.671875 44.328125 \nQ 18.0625 40.71875 22.3125 40.71875 \nQ 26.5625 40.71875 28.96875 44.328125 \nQ 31.390625 47.953125 31.390625 54.390625 \nQ 31.390625 60.6875 28.953125 64.34375 \nQ 26.515625 68.015625 22.3125 68.015625 \nz\nM 66.40625 74.21875 \nL 74.21875 74.21875 \nL 28.609375 -1.421875 \nL 20.796875 -1.421875 \nz\nM 22.3125 74.21875 \nQ 30.03125 74.21875 34.609375 68.875 \nQ 39.203125 63.53125 39.203125 54.390625 \nQ 39.203125 45.171875 34.640625 39.84375 \nQ 30.078125 34.515625 22.3125 34.515625 \nQ 14.546875 34.515625 10.03125 39.859375 \nQ 5.515625 45.21875 5.515625 54.390625 \nQ 5.515625 63.484375 10.046875 68.84375 \nQ 14.59375 74.21875 22.3125 74.21875 \nz\n\" id=\"DejaVuSans-37\"/>\n       <path d=\"M 8.015625 75.875 \nL 15.828125 75.875 \nQ 23.140625 64.359375 26.78125 53.3125 \nQ 30.421875 42.28125 30.421875 31.390625 \nQ 30.421875 20.453125 26.78125 9.375 \nQ 23.140625 -1.703125 15.828125 -13.1875 \nL 8.015625 -13.1875 \nQ 14.5 -2 17.703125 9.0625 \nQ 20.90625 20.125 20.90625 31.390625 \nQ 20.90625 42.671875 17.703125 53.65625 \nQ 14.5 64.65625 8.015625 75.875 \nz\n\" id=\"DejaVuSans-41\"/>\n      </defs>\n      <use xlink:href=\"#DejaVuSans-71\"/>\n      <use x=\"77.490234\" xlink:href=\"#DejaVuSans-111\"/>\n      <use x=\"138.671875\" xlink:href=\"#DejaVuSans-118\"/>\n      <use x=\"197.851562\" xlink:href=\"#DejaVuSans-101\"/>\n      <use x=\"259.375\" xlink:href=\"#DejaVuSans-114\"/>\n      <use x=\"298.738281\" xlink:href=\"#DejaVuSans-110\"/>\n      <use x=\"362.117188\" xlink:href=\"#DejaVuSans-109\"/>\n      <use x=\"459.529297\" xlink:href=\"#DejaVuSans-101\"/>\n      <use x=\"521.052734\" xlink:href=\"#DejaVuSans-110\"/>\n      <use x=\"584.431641\" xlink:href=\"#DejaVuSans-116\"/>\n      <use x=\"623.640625\" xlink:href=\"#DejaVuSans-32\"/>\n      <use x=\"655.427734\" xlink:href=\"#DejaVuSans-69\"/>\n      <use x=\"718.611328\" xlink:href=\"#DejaVuSans-120\"/>\n      <use x=\"777.791016\" xlink:href=\"#DejaVuSans-112\"/>\n      <use x=\"841.267578\" xlink:href=\"#DejaVuSans-101\"/>\n      <use x=\"902.791016\" xlink:href=\"#DejaVuSans-110\"/>\n      <use x=\"966.169922\" xlink:href=\"#DejaVuSans-100\"/>\n      <use x=\"1029.646484\" xlink:href=\"#DejaVuSans-105\"/>\n      <use x=\"1057.429688\" xlink:href=\"#DejaVuSans-116\"/>\n      <use x=\"1096.638672\" xlink:href=\"#DejaVuSans-117\"/>\n      <use x=\"1160.017578\" xlink:href=\"#DejaVuSans-114\"/>\n      <use x=\"1198.880859\" xlink:href=\"#DejaVuSans-101\"/>\n      <use x=\"1260.404297\" xlink:href=\"#DejaVuSans-32\"/>\n      <use x=\"1292.191406\" xlink:href=\"#DejaVuSans-111\"/>\n      <use x=\"1353.373047\" xlink:href=\"#DejaVuSans-110\"/>\n      <use x=\"1416.751953\" xlink:href=\"#DejaVuSans-32\"/>\n      <use x=\"1448.539062\" xlink:href=\"#DejaVuSans-69\"/>\n      <use x=\"1511.722656\" xlink:href=\"#DejaVuSans-100\"/>\n      <use x=\"1575.199219\" xlink:href=\"#DejaVuSans-117\"/>\n      <use x=\"1638.578125\" xlink:href=\"#DejaVuSans-99\"/>\n      <use x=\"1693.558594\" xlink:href=\"#DejaVuSans-97\"/>\n      <use x=\"1754.837891\" xlink:href=\"#DejaVuSans-116\"/>\n      <use x=\"1794.046875\" xlink:href=\"#DejaVuSans-105\"/>\n      <use x=\"1821.830078\" xlink:href=\"#DejaVuSans-111\"/>\n      <use x=\"1883.011719\" xlink:href=\"#DejaVuSans-110\"/>\n      <use x=\"1946.390625\" xlink:href=\"#DejaVuSans-32\"/>\n      <use x=\"1978.177734\" xlink:href=\"#DejaVuSans-40\"/>\n      <use x=\"2017.191406\" xlink:href=\"#DejaVuSans-37\"/>\n      <use x=\"2112.210938\" xlink:href=\"#DejaVuSans-41\"/>\n     </g>\n    </g>\n   </g>\n   <g id=\"matplotlib.axis_2\">\n    <g id=\"ytick_1\">\n     <g id=\"line2d_9\">\n      <defs>\n       <path d=\"M 0 0 \nL -3.5 0 \n\" id=\"mee32549536\" style=\"stroke:#000000;stroke-width:0.8;\"/>\n      </defs>\n      <g>\n       <use style=\"stroke:#000000;stroke-width:0.8;\" x=\"40.603125\" xlink:href=\"#mee32549536\" y=\"224.018419\"/>\n      </g>\n     </g>\n     <g id=\"text_10\">\n      <!-- 0 -->\n      <g transform=\"translate(27.240625 227.817637)scale(0.1 -0.1)\">\n       <use xlink:href=\"#DejaVuSans-48\"/>\n      </g>\n     </g>\n    </g>\n    <g id=\"ytick_2\">\n     <g id=\"line2d_10\">\n      <g>\n       <use style=\"stroke:#000000;stroke-width:0.8;\" x=\"40.603125\" xlink:href=\"#mee32549536\" y=\"178.366222\"/>\n      </g>\n     </g>\n     <g id=\"text_11\">\n      <!-- 20 -->\n      <g transform=\"translate(20.878125 182.16544)scale(0.1 -0.1)\">\n       <use xlink:href=\"#DejaVuSans-50\"/>\n       <use x=\"63.623047\" xlink:href=\"#DejaVuSans-48\"/>\n      </g>\n     </g>\n    </g>\n    <g id=\"ytick_3\">\n     <g id=\"line2d_11\">\n      <g>\n       <use style=\"stroke:#000000;stroke-width:0.8;\" x=\"40.603125\" xlink:href=\"#mee32549536\" y=\"132.714025\"/>\n      </g>\n     </g>\n     <g id=\"text_12\">\n      <!-- 40 -->\n      <g transform=\"translate(20.878125 136.513243)scale(0.1 -0.1)\">\n       <defs>\n        <path d=\"M 37.796875 64.3125 \nL 12.890625 25.390625 \nL 37.796875 25.390625 \nz\nM 35.203125 72.90625 \nL 47.609375 72.90625 \nL 47.609375 25.390625 \nL 58.015625 25.390625 \nL 58.015625 17.1875 \nL 47.609375 17.1875 \nL 47.609375 0 \nL 37.796875 0 \nL 37.796875 17.1875 \nL 4.890625 17.1875 \nL 4.890625 26.703125 \nz\n\" id=\"DejaVuSans-52\"/>\n       </defs>\n       <use xlink:href=\"#DejaVuSans-52\"/>\n       <use x=\"63.623047\" xlink:href=\"#DejaVuSans-48\"/>\n      </g>\n     </g>\n    </g>\n    <g id=\"ytick_4\">\n     <g id=\"line2d_12\">\n      <g>\n       <use style=\"stroke:#000000;stroke-width:0.8;\" x=\"40.603125\" xlink:href=\"#mee32549536\" y=\"87.061828\"/>\n      </g>\n     </g>\n     <g id=\"text_13\">\n      <!-- 60 -->\n      <g transform=\"translate(20.878125 90.861046)scale(0.1 -0.1)\">\n       <defs>\n        <path d=\"M 33.015625 40.375 \nQ 26.375 40.375 22.484375 35.828125 \nQ 18.609375 31.296875 18.609375 23.390625 \nQ 18.609375 15.53125 22.484375 10.953125 \nQ 26.375 6.390625 33.015625 6.390625 \nQ 39.65625 6.390625 43.53125 10.953125 \nQ 47.40625 15.53125 47.40625 23.390625 \nQ 47.40625 31.296875 43.53125 35.828125 \nQ 39.65625 40.375 33.015625 40.375 \nz\nM 52.59375 71.296875 \nL 52.59375 62.3125 \nQ 48.875 64.0625 45.09375 64.984375 \nQ 41.3125 65.921875 37.59375 65.921875 \nQ 27.828125 65.921875 22.671875 59.328125 \nQ 17.53125 52.734375 16.796875 39.40625 \nQ 19.671875 43.65625 24.015625 45.921875 \nQ 28.375 48.1875 33.59375 48.1875 \nQ 44.578125 48.1875 50.953125 41.515625 \nQ 57.328125 34.859375 57.328125 23.390625 \nQ 57.328125 12.15625 50.6875 5.359375 \nQ 44.046875 -1.421875 33.015625 -1.421875 \nQ 20.359375 -1.421875 13.671875 8.265625 \nQ 6.984375 17.96875 6.984375 36.375 \nQ 6.984375 53.65625 15.1875 63.9375 \nQ 23.390625 74.21875 37.203125 74.21875 \nQ 40.921875 74.21875 44.703125 73.484375 \nQ 48.484375 72.75 52.59375 71.296875 \nz\n\" id=\"DejaVuSans-54\"/>\n       </defs>\n       <use xlink:href=\"#DejaVuSans-54\"/>\n       <use x=\"63.623047\" xlink:href=\"#DejaVuSans-48\"/>\n      </g>\n     </g>\n    </g>\n    <g id=\"ytick_5\">\n     <g id=\"line2d_13\">\n      <g>\n       <use style=\"stroke:#000000;stroke-width:0.8;\" x=\"40.603125\" xlink:href=\"#mee32549536\" y=\"41.409631\"/>\n      </g>\n     </g>\n     <g id=\"text_14\">\n      <!-- 80 -->\n      <g transform=\"translate(20.878125 45.208849)scale(0.1 -0.1)\">\n       <defs>\n        <path d=\"M 31.78125 34.625 \nQ 24.75 34.625 20.71875 30.859375 \nQ 16.703125 27.09375 16.703125 20.515625 \nQ 16.703125 13.921875 20.71875 10.15625 \nQ 24.75 6.390625 31.78125 6.390625 \nQ 38.8125 6.390625 42.859375 10.171875 \nQ 46.921875 13.96875 46.921875 20.515625 \nQ 46.921875 27.09375 42.890625 30.859375 \nQ 38.875 34.625 31.78125 34.625 \nz\nM 21.921875 38.8125 \nQ 15.578125 40.375 12.03125 44.71875 \nQ 8.5 49.078125 8.5 55.328125 \nQ 8.5 64.0625 14.71875 69.140625 \nQ 20.953125 74.21875 31.78125 74.21875 \nQ 42.671875 74.21875 48.875 69.140625 \nQ 55.078125 64.0625 55.078125 55.328125 \nQ 55.078125 49.078125 51.53125 44.71875 \nQ 48 40.375 41.703125 38.8125 \nQ 48.828125 37.15625 52.796875 32.3125 \nQ 56.78125 27.484375 56.78125 20.515625 \nQ 56.78125 9.90625 50.3125 4.234375 \nQ 43.84375 -1.421875 31.78125 -1.421875 \nQ 19.734375 -1.421875 13.25 4.234375 \nQ 6.78125 9.90625 6.78125 20.515625 \nQ 6.78125 27.484375 10.78125 32.3125 \nQ 14.796875 37.15625 21.921875 38.8125 \nz\nM 18.3125 54.390625 \nQ 18.3125 48.734375 21.84375 45.5625 \nQ 25.390625 42.390625 31.78125 42.390625 \nQ 38.140625 42.390625 41.71875 45.5625 \nQ 45.3125 48.734375 45.3125 54.390625 \nQ 45.3125 60.0625 41.71875 63.234375 \nQ 38.140625 66.40625 31.78125 66.40625 \nQ 25.390625 66.40625 21.84375 63.234375 \nQ 18.3125 60.0625 18.3125 54.390625 \nz\n\" id=\"DejaVuSans-56\"/>\n       </defs>\n       <use xlink:href=\"#DejaVuSans-56\"/>\n       <use x=\"63.623047\" xlink:href=\"#DejaVuSans-48\"/>\n      </g>\n     </g>\n    </g>\n    <g id=\"text_15\">\n     <!-- Tertiary School Enrollment (%) -->\n     <g transform=\"translate(14.798438 191.887969)rotate(-90)scale(0.1 -0.1)\">\n      <defs>\n       <path d=\"M -0.296875 72.90625 \nL 61.375 72.90625 \nL 61.375 64.59375 \nL 35.5 64.59375 \nL 35.5 0 \nL 25.59375 0 \nL 25.59375 64.59375 \nL -0.296875 64.59375 \nz\n\" id=\"DejaVuSans-84\"/>\n       <path d=\"M 32.171875 -5.078125 \nQ 28.375 -14.84375 24.75 -17.8125 \nQ 21.140625 -20.796875 15.09375 -20.796875 \nL 7.90625 -20.796875 \nL 7.90625 -13.28125 \nL 13.1875 -13.28125 \nQ 16.890625 -13.28125 18.9375 -11.515625 \nQ 21 -9.765625 23.484375 -3.21875 \nL 25.09375 0.875 \nL 2.984375 54.6875 \nL 12.5 54.6875 \nL 29.59375 11.921875 \nL 46.6875 54.6875 \nL 56.203125 54.6875 \nz\n\" id=\"DejaVuSans-121\"/>\n       <path d=\"M 53.515625 70.515625 \nL 53.515625 60.890625 \nQ 47.90625 63.578125 42.921875 64.890625 \nQ 37.9375 66.21875 33.296875 66.21875 \nQ 25.25 66.21875 20.875 63.09375 \nQ 16.5 59.96875 16.5 54.203125 \nQ 16.5 49.359375 19.40625 46.890625 \nQ 22.3125 44.4375 30.421875 42.921875 \nL 36.375 41.703125 \nQ 47.40625 39.59375 52.65625 34.296875 \nQ 57.90625 29 57.90625 20.125 \nQ 57.90625 9.515625 50.796875 4.046875 \nQ 43.703125 -1.421875 29.984375 -1.421875 \nQ 24.8125 -1.421875 18.96875 -0.25 \nQ 13.140625 0.921875 6.890625 3.21875 \nL 6.890625 13.375 \nQ 12.890625 10.015625 18.65625 8.296875 \nQ 24.421875 6.59375 29.984375 6.59375 \nQ 38.421875 6.59375 43.015625 9.90625 \nQ 47.609375 13.234375 47.609375 19.390625 \nQ 47.609375 24.75 44.3125 27.78125 \nQ 41.015625 30.8125 33.5 32.328125 \nL 27.484375 33.5 \nQ 16.453125 35.6875 11.515625 40.375 \nQ 6.59375 45.0625 6.59375 53.421875 \nQ 6.59375 63.09375 13.40625 68.65625 \nQ 20.21875 74.21875 32.171875 74.21875 \nQ 37.3125 74.21875 42.625 73.28125 \nQ 47.953125 72.359375 53.515625 70.515625 \nz\n\" id=\"DejaVuSans-83\"/>\n       <path d=\"M 54.890625 33.015625 \nL 54.890625 0 \nL 45.90625 0 \nL 45.90625 32.71875 \nQ 45.90625 40.484375 42.875 44.328125 \nQ 39.84375 48.1875 33.796875 48.1875 \nQ 26.515625 48.1875 22.3125 43.546875 \nQ 18.109375 38.921875 18.109375 30.90625 \nL 18.109375 0 \nL 9.078125 0 \nL 9.078125 75.984375 \nL 18.109375 75.984375 \nL 18.109375 46.1875 \nQ 21.34375 51.125 25.703125 53.5625 \nQ 30.078125 56 35.796875 56 \nQ 45.21875 56 50.046875 50.171875 \nQ 54.890625 44.34375 54.890625 33.015625 \nz\n\" id=\"DejaVuSans-104\"/>\n       <path d=\"M 9.421875 75.984375 \nL 18.40625 75.984375 \nL 18.40625 0 \nL 9.421875 0 \nz\n\" id=\"DejaVuSans-108\"/>\n      </defs>\n      <use xlink:href=\"#DejaVuSans-84\"/>\n      <use x=\"44.083984\" xlink:href=\"#DejaVuSans-101\"/>\n      <use x=\"105.607422\" xlink:href=\"#DejaVuSans-114\"/>\n      <use x=\"146.720703\" xlink:href=\"#DejaVuSans-116\"/>\n      <use x=\"185.929688\" xlink:href=\"#DejaVuSans-105\"/>\n      <use x=\"213.712891\" xlink:href=\"#DejaVuSans-97\"/>\n      <use x=\"274.992188\" xlink:href=\"#DejaVuSans-114\"/>\n      <use x=\"316.105469\" xlink:href=\"#DejaVuSans-121\"/>\n      <use x=\"375.285156\" xlink:href=\"#DejaVuSans-32\"/>\n      <use x=\"407.072266\" xlink:href=\"#DejaVuSans-83\"/>\n      <use x=\"470.548828\" xlink:href=\"#DejaVuSans-99\"/>\n      <use x=\"525.529297\" xlink:href=\"#DejaVuSans-104\"/>\n      <use x=\"588.908203\" xlink:href=\"#DejaVuSans-111\"/>\n      <use x=\"650.089844\" xlink:href=\"#DejaVuSans-111\"/>\n      <use x=\"711.271484\" xlink:href=\"#DejaVuSans-108\"/>\n      <use x=\"739.054688\" xlink:href=\"#DejaVuSans-32\"/>\n      <use x=\"770.841797\" xlink:href=\"#DejaVuSans-69\"/>\n      <use x=\"834.025391\" xlink:href=\"#DejaVuSans-110\"/>\n      <use x=\"897.404297\" xlink:href=\"#DejaVuSans-114\"/>\n      <use x=\"936.267578\" xlink:href=\"#DejaVuSans-111\"/>\n      <use x=\"997.449219\" xlink:href=\"#DejaVuSans-108\"/>\n      <use x=\"1025.232422\" xlink:href=\"#DejaVuSans-108\"/>\n      <use x=\"1053.015625\" xlink:href=\"#DejaVuSans-109\"/>\n      <use x=\"1150.427734\" xlink:href=\"#DejaVuSans-101\"/>\n      <use x=\"1211.951172\" xlink:href=\"#DejaVuSans-110\"/>\n      <use x=\"1275.330078\" xlink:href=\"#DejaVuSans-116\"/>\n      <use x=\"1314.539062\" xlink:href=\"#DejaVuSans-32\"/>\n      <use x=\"1346.326172\" xlink:href=\"#DejaVuSans-40\"/>\n      <use x=\"1385.339844\" xlink:href=\"#DejaVuSans-37\"/>\n      <use x=\"1480.359375\" xlink:href=\"#DejaVuSans-41\"/>\n     </g>\n    </g>\n   </g>\n   <g id=\"patch_3\">\n    <path d=\"M 40.603125 224.64 \nL 40.603125 7.2 \n\" style=\"fill:none;stroke:#000000;stroke-linecap:square;stroke-linejoin:miter;stroke-width:0.8;\"/>\n   </g>\n   <g id=\"patch_4\">\n    <path d=\"M 375.403125 224.64 \nL 375.403125 7.2 \n\" style=\"fill:none;stroke:#000000;stroke-linecap:square;stroke-linejoin:miter;stroke-width:0.8;\"/>\n   </g>\n   <g id=\"patch_5\">\n    <path d=\"M 40.603125 224.64 \nL 375.403125 224.64 \n\" style=\"fill:none;stroke:#000000;stroke-linecap:square;stroke-linejoin:miter;stroke-width:0.8;\"/>\n   </g>\n   <g id=\"patch_6\">\n    <path d=\"M 40.603125 7.2 \nL 375.403125 7.2 \n\" style=\"fill:none;stroke:#000000;stroke-linecap:square;stroke-linejoin:miter;stroke-width:0.8;\"/>\n   </g>\n  </g>\n </g>\n <defs>\n  <clipPath id=\"pc64996813c\">\n   <rect height=\"217.44\" width=\"334.8\" x=\"40.603125\" y=\"7.2\"/>\n  </clipPath>\n </defs>\n</svg>\n",
      "image/png": "[encoded data removed]"
     },
     "metadata": {
      "needs_background": "light"
     }
    }
   ],
   "source": [
    "import matplotlib.pyplot as plt\n",
    "\n",
    "sort_databank.plot.scatter(x=EDUCATION_SPENDING, y=TERTIARY_SCHOOL_ENROLLMENT, alpha=1.0, c='red')\n",
    "plt.xlabel(\"Government Expenditure on Education (%)\")\n",
    "plt.ylabel(\"Tertiary School Enrollment (%)\")"
   ]
  },
  {
   "source": [
    "### 6. The correlation between 'EDUCATION_SPENDING' and 'TERTIARY_SCHOOL_ENROLLMENT' is calculated and printed."
   ],
   "cell_type": "markdown",
   "metadata": {}
  },
  {
   "cell_type": "code",
   "execution_count": 63,
   "metadata": {},
   "outputs": [
    {
     "output_type": "execute_result",
     "data": {
      "text/plain": [
       "-0.11644261213265486"
      ]
     },
     "metadata": {},
     "execution_count": 63
    }
   ],
   "source": [
    "c1 = filter_databank[EDUCATION_SPENDING]\n",
    "c2 = filter_databank[TERTIARY_SCHOOL_ENROLLMENT]\n",
    "\n",
    "c1.corr(c2, method='pearson')"
   ]
  },
  {
   "source": [
    "# Conclusion:"
   ],
   "cell_type": "markdown",
   "metadata": {}
  }
 ]
}
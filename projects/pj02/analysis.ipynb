{
 "metadata": {
  "language_info": {
   "codemirror_mode": {
    "name": "ipython",
    "version": 3
   },
   "file_extension": ".py",
   "mimetype": "text/x-python",
   "name": "python",
   "nbconvert_exporter": "python",
   "pygments_lexer": "ipython3",
   "version": "3.9.1"
  },
  "orig_nbformat": 2,
  "kernelspec": {
   "name": "python391jvsc74a57bd0aee8b7b246df8f9039afb4144a1f6fd8d2ca17a180786b69acc140d282b71a49",
   "display_name": "Python 3.9.1 64-bit"
  },
  "metadata": {
   "interpreter": {
    "hash": "aee8b7b246df8f9039afb4144a1f6fd8d2ca17a180786b69acc140d282b71a49"
   }
  }
 },
 "nbformat": 4,
 "nbformat_minor": 2,
 "cells": [
  {
   "source": [
    "# Hypothesis:\n",
    "\n",
    "## There is a strong correlation between total government expenditure on education (measured in the percentage of government expenditure) and tertiary school enrollment (measured by the ratio of total enrollment)."
   ],
   "cell_type": "markdown",
   "metadata": {}
  },
  {
   "cell_type": "code",
   "execution_count": 1,
   "metadata": {},
   "outputs": [],
   "source": [
    "import pandas as pd\n",
    "EDUCATION_SPENDING: str = \"SE.XPD.TOTL.GB.ZS\"\n",
    "TERTIARY_SCHOOL_ENROLLMENT: str = \"SE.TER.ENRR\""
   ]
  },
  {
   "source": [
    "### 0. The CSV file containing the data set sourced from the World Bank will be read into a DataFrame."
   ],
   "cell_type": "markdown",
   "metadata": {}
  },
  {
   "cell_type": "code",
   "execution_count": 4,
   "metadata": {},
   "outputs": [
    {
     "output_type": "execute_result",
     "data": {
      "text/plain": [
       "                Country  SE.COM.DURS  SE.ENR.PRIM.FM.ZS  SE.ENR.PRSC.FM.ZS  \\\n",
       "0           Afghanistan          9.0            0.66691            0.63602   \n",
       "1               Albania          9.0            1.03765            1.01730   \n",
       "2               Algeria         10.0            0.95499                NaN   \n",
       "3               Andorra         10.0                NaN                NaN   \n",
       "4                Angola          6.0                NaN                NaN   \n",
       "..                  ...          ...                ...                ...   \n",
       "239  West Bank and Gaza         10.0            1.00261            1.06176   \n",
       "240               World         10.0            0.98104            0.98576   \n",
       "241         Yemen, Rep.          9.0                NaN                NaN   \n",
       "242              Zambia          7.0                NaN                NaN   \n",
       "243            Zimbabwe          7.0                NaN                NaN   \n",
       "\n",
       "     SE.ENR.SECO.FM.ZS  SE.ENR.TERT.FM.ZS  SE.PRE.DURS  SE.PRE.ENRL.TC.ZS  \\\n",
       "0              0.57098            0.34523          1.0                NaN   \n",
       "1              1.00539            1.36299          5.0           17.09409   \n",
       "2                  NaN            1.39722          1.0                NaN   \n",
       "3                  NaN                NaN          3.0           13.27711   \n",
       "4                  NaN                NaN          5.0                NaN   \n",
       "..                 ...                ...          ...                ...   \n",
       "239            1.10154            1.36479          2.0           16.69999   \n",
       "240            0.99104            1.12429          4.0           17.45058   \n",
       "241                NaN                NaN          6.0                NaN   \n",
       "242                NaN                NaN          4.0                NaN   \n",
       "243                NaN                NaN          2.0                NaN   \n",
       "\n",
       "     SE.PRE.ENRR  SE.PRE.ENRR.FE  ...  SH.DYN.1014  SH.DYN.1519  SH.DYN.2024  \\\n",
       "0            NaN             NaN  ...          2.0         13.8         17.6   \n",
       "1      80.498734       80.790977  ...          1.1          1.8          1.9   \n",
       "2            NaN             NaN  ...          1.7          2.7          3.3   \n",
       "3            NaN             NaN  ...          0.5          1.4          2.1   \n",
       "4            NaN             NaN  ...          6.4         13.1         19.9   \n",
       "..           ...             ...  ...          ...          ...          ...   \n",
       "239    56.479252       56.484600  ...          2.0          3.5          4.1   \n",
       "240    61.187061       60.986401  ...          3.0          5.0          6.4   \n",
       "241          NaN             NaN  ...          6.5         10.9         14.8   \n",
       "242          NaN             NaN  ...          4.2          9.6         13.0   \n",
       "243          NaN             NaN  ...          6.8          9.9         14.8   \n",
       "\n",
       "     SL.TLF.TOTL.FE.ZS  SL.TLF.TOTL.IN  SL.UEM.TOTL.FE.ZS  SL.UEM.TOTL.MA.ZS  \\\n",
       "0            21.247021    1.031928e+07          13.920000          10.290000   \n",
       "1            42.190687    1.400072e+06          11.870000          12.620000   \n",
       "2            20.126974    1.258937e+07          20.490000           9.720000   \n",
       "3                  NaN             NaN                NaN                NaN   \n",
       "4            50.202910    1.270565e+07           7.280000           6.720000   \n",
       "..                 ...             ...                ...                ...   \n",
       "239          19.854598    1.214011e+06          41.849998          22.389999   \n",
       "240          38.858304    3.428734e+09           5.531963           5.270265   \n",
       "241           7.895299    6.561778e+06          25.330000          11.950000   \n",
       "242          48.295769    7.133451e+06          13.240000          10.850000   \n",
       "243          50.928141    6.908699e+06           5.620000           4.500000   \n",
       "\n",
       "     SL.UEM.TOTL.ZS  SP.POP.0014.TO.ZS  SP.POP.1564.TO.ZS  \n",
       "0         11.060000          43.090176          54.324898  \n",
       "1         12.300000          17.672874          68.582390  \n",
       "2         11.890000          30.148679          63.488825  \n",
       "3               NaN                NaN                NaN  \n",
       "4          7.000000          46.808925          50.974702  \n",
       "..              ...                ...                ...  \n",
       "239       26.260000          38.947361          57.919333  \n",
       "240        5.371721          25.795967          65.330905  \n",
       "241       13.010000          39.614890          57.508840  \n",
       "242       12.010000          44.936141          52.964181  \n",
       "243        5.070000          42.401066          54.659410  \n",
       "\n",
       "[244 rows x 94 columns]"
      ],
      "text/html": "<div>\n<style scoped>\n    .dataframe tbody tr th:only-of-type {\n        vertical-align: middle;\n    }\n\n    .dataframe tbody tr th {\n        vertical-align: top;\n    }\n\n    .dataframe thead th {\n        text-align: right;\n    }\n</style>\n<table border=\"1\" class=\"dataframe\">\n  <thead>\n    <tr style=\"text-align: right;\">\n      <th></th>\n      <th>Country</th>\n      <th>SE.COM.DURS</th>\n      <th>SE.ENR.PRIM.FM.ZS</th>\n      <th>SE.ENR.PRSC.FM.ZS</th>\n      <th>SE.ENR.SECO.FM.ZS</th>\n      <th>SE.ENR.TERT.FM.ZS</th>\n      <th>SE.PRE.DURS</th>\n      <th>SE.PRE.ENRL.TC.ZS</th>\n      <th>SE.PRE.ENRR</th>\n      <th>SE.PRE.ENRR.FE</th>\n      <th>...</th>\n      <th>SH.DYN.1014</th>\n      <th>SH.DYN.1519</th>\n      <th>SH.DYN.2024</th>\n      <th>SL.TLF.TOTL.FE.ZS</th>\n      <th>SL.TLF.TOTL.IN</th>\n      <th>SL.UEM.TOTL.FE.ZS</th>\n      <th>SL.UEM.TOTL.MA.ZS</th>\n      <th>SL.UEM.TOTL.ZS</th>\n      <th>SP.POP.0014.TO.ZS</th>\n      <th>SP.POP.1564.TO.ZS</th>\n    </tr>\n  </thead>\n  <tbody>\n    <tr>\n      <th>0</th>\n      <td>Afghanistan</td>\n      <td>9.0</td>\n      <td>0.66691</td>\n      <td>0.63602</td>\n      <td>0.57098</td>\n      <td>0.34523</td>\n      <td>1.0</td>\n      <td>NaN</td>\n      <td>NaN</td>\n      <td>NaN</td>\n      <td>...</td>\n      <td>2.0</td>\n      <td>13.8</td>\n      <td>17.6</td>\n      <td>21.247021</td>\n      <td>1.031928e+07</td>\n      <td>13.920000</td>\n      <td>10.290000</td>\n      <td>11.060000</td>\n      <td>43.090176</td>\n      <td>54.324898</td>\n    </tr>\n    <tr>\n      <th>1</th>\n      <td>Albania</td>\n      <td>9.0</td>\n      <td>1.03765</td>\n      <td>1.01730</td>\n      <td>1.00539</td>\n      <td>1.36299</td>\n      <td>5.0</td>\n      <td>17.09409</td>\n      <td>80.498734</td>\n      <td>80.790977</td>\n      <td>...</td>\n      <td>1.1</td>\n      <td>1.8</td>\n      <td>1.9</td>\n      <td>42.190687</td>\n      <td>1.400072e+06</td>\n      <td>11.870000</td>\n      <td>12.620000</td>\n      <td>12.300000</td>\n      <td>17.672874</td>\n      <td>68.582390</td>\n    </tr>\n    <tr>\n      <th>2</th>\n      <td>Algeria</td>\n      <td>10.0</td>\n      <td>0.95499</td>\n      <td>NaN</td>\n      <td>NaN</td>\n      <td>1.39722</td>\n      <td>1.0</td>\n      <td>NaN</td>\n      <td>NaN</td>\n      <td>NaN</td>\n      <td>...</td>\n      <td>1.7</td>\n      <td>2.7</td>\n      <td>3.3</td>\n      <td>20.126974</td>\n      <td>1.258937e+07</td>\n      <td>20.490000</td>\n      <td>9.720000</td>\n      <td>11.890000</td>\n      <td>30.148679</td>\n      <td>63.488825</td>\n    </tr>\n    <tr>\n      <th>3</th>\n      <td>Andorra</td>\n      <td>10.0</td>\n      <td>NaN</td>\n      <td>NaN</td>\n      <td>NaN</td>\n      <td>NaN</td>\n      <td>3.0</td>\n      <td>13.27711</td>\n      <td>NaN</td>\n      <td>NaN</td>\n      <td>...</td>\n      <td>0.5</td>\n      <td>1.4</td>\n      <td>2.1</td>\n      <td>NaN</td>\n      <td>NaN</td>\n      <td>NaN</td>\n      <td>NaN</td>\n      <td>NaN</td>\n      <td>NaN</td>\n      <td>NaN</td>\n    </tr>\n    <tr>\n      <th>4</th>\n      <td>Angola</td>\n      <td>6.0</td>\n      <td>NaN</td>\n      <td>NaN</td>\n      <td>NaN</td>\n      <td>NaN</td>\n      <td>5.0</td>\n      <td>NaN</td>\n      <td>NaN</td>\n      <td>NaN</td>\n      <td>...</td>\n      <td>6.4</td>\n      <td>13.1</td>\n      <td>19.9</td>\n      <td>50.202910</td>\n      <td>1.270565e+07</td>\n      <td>7.280000</td>\n      <td>6.720000</td>\n      <td>7.000000</td>\n      <td>46.808925</td>\n      <td>50.974702</td>\n    </tr>\n    <tr>\n      <th>...</th>\n      <td>...</td>\n      <td>...</td>\n      <td>...</td>\n      <td>...</td>\n      <td>...</td>\n      <td>...</td>\n      <td>...</td>\n      <td>...</td>\n      <td>...</td>\n      <td>...</td>\n      <td>...</td>\n      <td>...</td>\n      <td>...</td>\n      <td>...</td>\n      <td>...</td>\n      <td>...</td>\n      <td>...</td>\n      <td>...</td>\n      <td>...</td>\n      <td>...</td>\n      <td>...</td>\n    </tr>\n    <tr>\n      <th>239</th>\n      <td>West Bank and Gaza</td>\n      <td>10.0</td>\n      <td>1.00261</td>\n      <td>1.06176</td>\n      <td>1.10154</td>\n      <td>1.36479</td>\n      <td>2.0</td>\n      <td>16.69999</td>\n      <td>56.479252</td>\n      <td>56.484600</td>\n      <td>...</td>\n      <td>2.0</td>\n      <td>3.5</td>\n      <td>4.1</td>\n      <td>19.854598</td>\n      <td>1.214011e+06</td>\n      <td>41.849998</td>\n      <td>22.389999</td>\n      <td>26.260000</td>\n      <td>38.947361</td>\n      <td>57.919333</td>\n    </tr>\n    <tr>\n      <th>240</th>\n      <td>World</td>\n      <td>10.0</td>\n      <td>0.98104</td>\n      <td>0.98576</td>\n      <td>0.99104</td>\n      <td>1.12429</td>\n      <td>4.0</td>\n      <td>17.45058</td>\n      <td>61.187061</td>\n      <td>60.986401</td>\n      <td>...</td>\n      <td>3.0</td>\n      <td>5.0</td>\n      <td>6.4</td>\n      <td>38.858304</td>\n      <td>3.428734e+09</td>\n      <td>5.531963</td>\n      <td>5.270265</td>\n      <td>5.371721</td>\n      <td>25.795967</td>\n      <td>65.330905</td>\n    </tr>\n    <tr>\n      <th>241</th>\n      <td>Yemen, Rep.</td>\n      <td>9.0</td>\n      <td>NaN</td>\n      <td>NaN</td>\n      <td>NaN</td>\n      <td>NaN</td>\n      <td>6.0</td>\n      <td>NaN</td>\n      <td>NaN</td>\n      <td>NaN</td>\n      <td>...</td>\n      <td>6.5</td>\n      <td>10.9</td>\n      <td>14.8</td>\n      <td>7.895299</td>\n      <td>6.561778e+06</td>\n      <td>25.330000</td>\n      <td>11.950000</td>\n      <td>13.010000</td>\n      <td>39.614890</td>\n      <td>57.508840</td>\n    </tr>\n    <tr>\n      <th>242</th>\n      <td>Zambia</td>\n      <td>7.0</td>\n      <td>NaN</td>\n      <td>NaN</td>\n      <td>NaN</td>\n      <td>NaN</td>\n      <td>4.0</td>\n      <td>NaN</td>\n      <td>NaN</td>\n      <td>NaN</td>\n      <td>...</td>\n      <td>4.2</td>\n      <td>9.6</td>\n      <td>13.0</td>\n      <td>48.295769</td>\n      <td>7.133451e+06</td>\n      <td>13.240000</td>\n      <td>10.850000</td>\n      <td>12.010000</td>\n      <td>44.936141</td>\n      <td>52.964181</td>\n    </tr>\n    <tr>\n      <th>243</th>\n      <td>Zimbabwe</td>\n      <td>7.0</td>\n      <td>NaN</td>\n      <td>NaN</td>\n      <td>NaN</td>\n      <td>NaN</td>\n      <td>2.0</td>\n      <td>NaN</td>\n      <td>NaN</td>\n      <td>NaN</td>\n      <td>...</td>\n      <td>6.8</td>\n      <td>9.9</td>\n      <td>14.8</td>\n      <td>50.928141</td>\n      <td>6.908699e+06</td>\n      <td>5.620000</td>\n      <td>4.500000</td>\n      <td>5.070000</td>\n      <td>42.401066</td>\n      <td>54.659410</td>\n    </tr>\n  </tbody>\n</table>\n<p>244 rows × 94 columns</p>\n</div>"
     },
     "metadata": {},
     "execution_count": 4
    }
   ],
   "source": [
    "databank = pd.read_csv(\"../../data/databank_education_2018.csv\")\n",
    "databank"
   ]
  },
  {
   "source": [
    "### 1."
   ],
   "cell_type": "markdown",
   "metadata": {}
  },
  {
   "cell_type": "code",
   "execution_count": null,
   "metadata": {},
   "outputs": [],
   "source": []
  }
 ]
}